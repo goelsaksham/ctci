{
 "cells": [
  {
   "cell_type": "code",
   "execution_count": 5,
   "metadata": {},
   "outputs": [],
   "source": [
    "class Node:\n",
    "    def __init__(self, val, neighbors = [], visited = False):\n",
    "        self.val= val\n",
    "        self.neighbors = neighbors\n",
    "        self.visited = visited\n",
    "        \n",
    "    def add_neighbors(self, neighbor_node):\n",
    "        self.neighbors.append(neighbor_node)\n",
    "        \n",
    "    def get_neighbors(self):\n",
    "        return self.neighbors\n",
    "    \n",
    "    def get_val(self):\n",
    "        return self.val\n",
    "    \n",
    "    def is_visited(self):\n",
    "        return self.visited\n",
    "    \n",
    "    def visit(self):\n",
    "        self.visited = True"
   ]
  },
  {
   "cell_type": "markdown",
   "metadata": {},
   "source": [
    "# Route Between Nodes\n",
    "\n",
    "Given a directed graph, design an algorithm to find out whether there is a route between two nodes.\n",
    "\n",
    "__Hints:#127__"
   ]
  },
  {
   "cell_type": "code",
   "execution_count": 6,
   "metadata": {},
   "outputs": [
    {
     "data": {
      "text/plain": [
       "False"
      ]
     },
     "execution_count": 6,
     "metadata": {},
     "output_type": "execute_result"
    }
   ],
   "source": [
    "def dfs_visit(current, goal):\n",
    "    found_goal = current == goal\n",
    "    current.visit()\n",
    "    for neighbor in current.get_neighbors():\n",
    "        if not neighbor.is_visited():\n",
    "            found_goal = found_goal or dfs_visit(neighbor, goal)\n",
    "    return found_goal\n",
    "\n",
    "def find_route(start, end):\n",
    "    return dfs_visit(start, end)\n",
    "\n",
    "A = Node(1)\n",
    "B = Node(2)\n",
    "C = Node(3)\n",
    "D = Node(4)\n",
    "E = Node(5)\n",
    "F = Node(6)\n",
    "A.add_neighbors(B)\n",
    "A.add_neighbors(D)\n",
    "B.add_neighbors(C)\n",
    "B.add_neighbors(E)\n",
    "C.add_neighbors(E)\n",
    "C.add_neighbors(D)\n",
    "D.add_neighbors(F)\n",
    "F.add_neighbors(E)\n",
    "find_route(C, A)"
   ]
  },
  {
   "cell_type": "markdown",
   "metadata": {},
   "source": [
    "# Minimal Tree\n",
    "\n",
    "Given a sorted (increasing order) array with unique integer elements, write an algorithm to create a binary search tree with minimal height.\n",
    "\n",
    "__Hints: #79, #73, #7 76__"
   ]
  },
  {
   "cell_type": "code",
   "execution_count": 7,
   "metadata": {},
   "outputs": [
    {
     "name": "stdout",
     "output_type": "stream",
     "text": [
      "-1--2--3--4--5--6--7-\n",
      "7\n",
      "3\n"
     ]
    }
   ],
   "source": [
    "class BNode:\n",
    "    def __init__(self, val, left = None, right = None, parent = None, num_elems = 0):\n",
    "        self.val = val\n",
    "        self.left = left\n",
    "        self.right = right\n",
    "        self.parent = parent\n",
    "        self.num_elems = num_elems\n",
    "        \n",
    "    def get_val(self):\n",
    "        return self.val\n",
    "    \n",
    "    def get_left(self):\n",
    "        return self.left\n",
    "    \n",
    "    def get_right(self):\n",
    "        return self.right\n",
    "    \n",
    "    def set_left(self, left):\n",
    "        self.left = left\n",
    "        \n",
    "    def set_right(self, right):\n",
    "        self.right = right\n",
    "        \n",
    "    def set_parent(self, parent):\n",
    "        self.parent = parent\n",
    "        \n",
    "    def get_parent(self):\n",
    "        return self.parent\n",
    "    \n",
    "    def increase_elems(self):\n",
    "        self.num_elems += 1\n",
    "    \n",
    "    def get_elems(self):\n",
    "        return self.num_elems\n",
    "        \n",
    "class BTree:\n",
    "    def __init__(self, head):\n",
    "        self.head = head\n",
    "        self.head.increase_elems()\n",
    "        \n",
    "    def get_root(self):\n",
    "        return self.head\n",
    "        \n",
    "    def insert(self, val):\n",
    "        def insert_helper(current_node, val):\n",
    "            if not current_node:\n",
    "                return BNode(val)\n",
    "            elif current_node.get_val() <= val:\n",
    "                current_node.right = insert_helper(current_node.right, val)\n",
    "                current_node.right.increase_elems()\n",
    "                return current_node\n",
    "            else:\n",
    "                current_node.left = insert_helper(current_node.left, val)\n",
    "                current_node.left.increase_elems()\n",
    "                return current_node\n",
    "        \n",
    "        self.head = insert_helper(self.head, val)\n",
    "        self.head.increase_elems()\n",
    "        \n",
    "    def get_height(self):\n",
    "        def get_height_helper(node):\n",
    "            if not node:\n",
    "                return 0\n",
    "            else:\n",
    "                return 1 + max(get_height_helper(node.left), get_height_helper(node.right))\n",
    "        return get_height_helper(self.get_root())\n",
    "        \n",
    "    def __str__(self):\n",
    "        def str_helper(current_node):\n",
    "            if current_node:\n",
    "                return f'{str_helper(current_node.left)}-{current_node.get_val()}-{str_helper(current_node.right)}'\n",
    "            else:\n",
    "                return ''\n",
    "        return str_helper(self.head)\n",
    "    \n",
    "tree = BTree(BNode(4))\n",
    "tree.insert(2)\n",
    "tree.insert(6)\n",
    "tree.insert(1)\n",
    "tree.insert(3)\n",
    "tree.insert(5)\n",
    "tree.insert(7)\n",
    "print(tree)\n",
    "print(tree.get_root().num_elems)\n",
    "\n",
    "def minimal_tree(sorted_arr):\n",
    "    def minimal_tree_helper(sorted_arr, start, end):\n",
    "        if start > end:\n",
    "            return None\n",
    "        else:\n",
    "            return BNode(sorted_arr[(start + end)//2], \n",
    "                         minimal_tree_helper(sorted_arr, start, ((start+end)//2) - 1),\n",
    "                         minimal_tree_helper(sorted_arr, ((start+end)//2) + 1, end))\n",
    "    return minimal_tree_helper(sorted_arr, 0, len(sorted_arr) - 1)\n",
    "\n",
    "print(BTree(minimal_tree([1, 2, 3, 4, 5, 6, 7])).get_height())"
   ]
  },
  {
   "cell_type": "markdown",
   "metadata": {},
   "source": [
    "# List of Depths\n",
    "\n",
    "Given a binary tree, design an algorithm which creates a linked list of all the nodes at each depth (e.g., if you have a tree with depth D, you'll have D linked lists).\n",
    "\n",
    "__Hints: #107, #123, #135__"
   ]
  },
  {
   "cell_type": "code",
   "execution_count": 8,
   "metadata": {},
   "outputs": [
    {
     "name": "stdout",
     "output_type": "stream",
     "text": [
      "-1--2--3--4--5--6--7-\n"
     ]
    },
    {
     "data": {
      "text/plain": [
       "6"
      ]
     },
     "execution_count": 8,
     "metadata": {},
     "output_type": "execute_result"
    }
   ],
   "source": [
    "class LNode:\n",
    "    def __init__(self, val, next_ptr = None, prev_ptr = None):\n",
    "        self.val = val\n",
    "        self.next_ptr = next_ptr\n",
    "        self.prev_ptr = prev_ptr\n",
    "    \n",
    "    def get_val(self):\n",
    "        return self.val\n",
    "    \n",
    "    def get_next(self):\n",
    "        return self.next_ptr\n",
    "    \n",
    "    def get_prev(self):\n",
    "        return self.prev_ptr\n",
    "    \n",
    "    def set_val(self, val):\n",
    "        self.val = val\n",
    "        \n",
    "    def set_next(self, next_ptr):\n",
    "        self.next_ptr = next_ptr\n",
    "        \n",
    "    def set_prev(self, prev_ptr):\n",
    "        self.prev_ptr = prev_ptr\n",
    "        \n",
    "    \n",
    "        \n",
    "        \n",
    "def ListOfDepths(btree):\n",
    "    ListOfLinkedList = [0] * btree.get_height()\n",
    "    root = btree.get_root()\n",
    "    def helper(current_node, height, ListOfLinkedList):\n",
    "        if current_node:\n",
    "            if not ListOfLinkedList[height]:\n",
    "                ListOfLinkedList[height] = LNode(current_node.get_val())\n",
    "            else:\n",
    "                L_node = ListOfLinkedList[height]\n",
    "                ListOfLinkedList[height] = LNode(current_node.get_val())\n",
    "                ListOfLinkedList[height].set_next(L_node)\n",
    "            helper(current_node.get_right(), height+1, ListOfLinkedList)\n",
    "            helper(current_node.get_left(), height+1, ListOfLinkedList)\n",
    "    helper(root, 0, ListOfLinkedList)\n",
    "    return ListOfLinkedList\n",
    "\n",
    "print(tree)\n",
    "ListOfDepths(tree)[1].get_next().get_val()"
   ]
  },
  {
   "cell_type": "markdown",
   "metadata": {},
   "source": [
    "# Check Balanced\n",
    "\n",
    "Implement a function to check if a binary tree is balanced. For the purposes of this question, a balanced tree is defined to be a tree such that the heights of the two subtrees of any node never differ by more than one.\n",
    "\n",
    "__Hints:#27, #33, #49, #705, #724__"
   ]
  },
  {
   "cell_type": "code",
   "execution_count": 9,
   "metadata": {},
   "outputs": [
    {
     "name": "stdout",
     "output_type": "stream",
     "text": [
      "False\n"
     ]
    }
   ],
   "source": [
    "def isBalanced(root):\n",
    "    def isBalancedHealper(current_node):\n",
    "        if not current_node:\n",
    "            return True, 0\n",
    "        else:\n",
    "            leftBalanced, leftHeight = isBalancedHealper(current_node.get_left())\n",
    "            rightBalanced, rightHeight = isBalancedHealper(current_node.get_right())\n",
    "            return leftBalanced and rightBalanced and abs(leftHeight - rightHeight) < 2, 1 + max(leftHeight, rightHeight)\n",
    "    return isBalancedHealper(root)[0]\n",
    "\n",
    "myTree = BTree(BNode(1))\n",
    "myTree.insert(2)\n",
    "myTree.insert(0)\n",
    "myTree.insert(3)\n",
    "myTree.insert(0.5)\n",
    "myTree.insert(4)\n",
    "print(isBalanced(myTree.get_root()))"
   ]
  },
  {
   "cell_type": "markdown",
   "metadata": {},
   "source": [
    "# Validate BST\n",
    "\n",
    "Implement a function to check if a binary tree is a binary search tree.\n",
    "\n",
    "__Hints: #35, #57, #86, #113, #128__"
   ]
  },
  {
   "cell_type": "code",
   "execution_count": 10,
   "metadata": {},
   "outputs": [
    {
     "ename": "NameError",
     "evalue": "name 'isBalanced_helper' is not defined",
     "output_type": "error",
     "traceback": [
      "\u001b[1;31m---------------------------------------------------------------------------\u001b[0m",
      "\u001b[1;31mNameError\u001b[0m                                 Traceback (most recent call last)",
      "\u001b[1;32m<ipython-input-10-7f01c530c14a>\u001b[0m in \u001b[0;36m<module>\u001b[1;34m()\u001b[0m\n\u001b[0;32m     11\u001b[0m     \u001b[1;32mreturn\u001b[0m \u001b[0misBalanced_helper\u001b[0m\u001b[1;33m(\u001b[0m\u001b[0mroot\u001b[0m\u001b[1;33m)\u001b[0m\u001b[1;33m[\u001b[0m\u001b[1;36m0\u001b[0m\u001b[1;33m]\u001b[0m\u001b[1;33m\u001b[0m\u001b[0m\n\u001b[0;32m     12\u001b[0m \u001b[1;33m\u001b[0m\u001b[0m\n\u001b[1;32m---> 13\u001b[1;33m \u001b[0mprint\u001b[0m\u001b[1;33m(\u001b[0m\u001b[0mvalidate_bst\u001b[0m\u001b[1;33m(\u001b[0m\u001b[0mtree\u001b[0m\u001b[1;33m.\u001b[0m\u001b[0mget_root\u001b[0m\u001b[1;33m(\u001b[0m\u001b[1;33m)\u001b[0m\u001b[1;33m)\u001b[0m\u001b[1;33m)\u001b[0m\u001b[1;33m\u001b[0m\u001b[0m\n\u001b[0m\u001b[0;32m     14\u001b[0m \u001b[0mA\u001b[0m \u001b[1;33m=\u001b[0m \u001b[0mBNode\u001b[0m\u001b[1;33m(\u001b[0m\u001b[1;36m5\u001b[0m\u001b[1;33m,\u001b[0m \u001b[0mBNode\u001b[0m\u001b[1;33m(\u001b[0m\u001b[1;36m3\u001b[0m\u001b[1;33m,\u001b[0m \u001b[0mBNode\u001b[0m\u001b[1;33m(\u001b[0m\u001b[1;36m1\u001b[0m\u001b[1;33m)\u001b[0m\u001b[1;33m,\u001b[0m \u001b[0mBNode\u001b[0m\u001b[1;33m(\u001b[0m\u001b[1;36m3.5\u001b[0m\u001b[1;33m)\u001b[0m\u001b[1;33m)\u001b[0m\u001b[1;33m,\u001b[0m \u001b[0mBNode\u001b[0m\u001b[1;33m(\u001b[0m\u001b[1;36m7\u001b[0m\u001b[1;33m,\u001b[0m \u001b[0mBNode\u001b[0m\u001b[1;33m(\u001b[0m\u001b[1;36m6\u001b[0m\u001b[1;33m)\u001b[0m\u001b[1;33m,\u001b[0m \u001b[0mBNode\u001b[0m\u001b[1;33m(\u001b[0m\u001b[1;36m9\u001b[0m\u001b[1;33m)\u001b[0m\u001b[1;33m)\u001b[0m\u001b[1;33m)\u001b[0m\u001b[1;33m\u001b[0m\u001b[0m\n\u001b[0;32m     15\u001b[0m \u001b[0mprint\u001b[0m\u001b[1;33m(\u001b[0m\u001b[0mvalidate_bst\u001b[0m\u001b[1;33m(\u001b[0m\u001b[0mA\u001b[0m\u001b[1;33m)\u001b[0m\u001b[1;33m)\u001b[0m\u001b[1;33m\u001b[0m\u001b[0m\n",
      "\u001b[1;32m<ipython-input-10-7f01c530c14a>\u001b[0m in \u001b[0;36mvalidate_bst\u001b[1;34m(root)\u001b[0m\n\u001b[0;32m      9\u001b[0m             \u001b[0mrBalanced\u001b[0m\u001b[1;33m,\u001b[0m \u001b[0mrmin\u001b[0m\u001b[1;33m,\u001b[0m \u001b[0mrmax\u001b[0m \u001b[1;33m=\u001b[0m \u001b[0mvalidate_bst_helper\u001b[0m\u001b[1;33m(\u001b[0m\u001b[0mcurrent_node\u001b[0m\u001b[1;33m.\u001b[0m\u001b[0mget_right\u001b[0m\u001b[1;33m(\u001b[0m\u001b[1;33m)\u001b[0m\u001b[1;33m)\u001b[0m\u001b[1;33m\u001b[0m\u001b[0m\n\u001b[0;32m     10\u001b[0m             \u001b[1;32mreturn\u001b[0m \u001b[0mlBalanced\u001b[0m \u001b[1;32mand\u001b[0m \u001b[1;33m(\u001b[0m\u001b[0mlmax\u001b[0m \u001b[1;33m<\u001b[0m \u001b[0mcurrent_node\u001b[0m\u001b[1;33m.\u001b[0m\u001b[0mget_val\u001b[0m\u001b[1;33m(\u001b[0m\u001b[1;33m)\u001b[0m \u001b[1;33m<=\u001b[0m \u001b[0mrmin\u001b[0m\u001b[1;33m)\u001b[0m \u001b[1;32mand\u001b[0m \u001b[0mrBalanced\u001b[0m\u001b[1;33m,\u001b[0m \u001b[0mmin\u001b[0m\u001b[1;33m(\u001b[0m\u001b[0mlmin\u001b[0m\u001b[1;33m,\u001b[0m \u001b[0mrmin\u001b[0m\u001b[1;33m,\u001b[0m \u001b[0mcurrent_node\u001b[0m\u001b[1;33m.\u001b[0m\u001b[0mget_val\u001b[0m\u001b[1;33m(\u001b[0m\u001b[1;33m)\u001b[0m\u001b[1;33m)\u001b[0m\u001b[1;33m,\u001b[0m \u001b[0mmax\u001b[0m\u001b[1;33m(\u001b[0m\u001b[0mlmax\u001b[0m\u001b[1;33m,\u001b[0m \u001b[0mrmax\u001b[0m\u001b[1;33m,\u001b[0m \u001b[0mcurrent_node\u001b[0m\u001b[1;33m.\u001b[0m\u001b[0mget_val\u001b[0m\u001b[1;33m(\u001b[0m\u001b[1;33m)\u001b[0m\u001b[1;33m)\u001b[0m\u001b[1;33m\u001b[0m\u001b[0m\n\u001b[1;32m---> 11\u001b[1;33m     \u001b[1;32mreturn\u001b[0m \u001b[0misBalanced_helper\u001b[0m\u001b[1;33m(\u001b[0m\u001b[0mroot\u001b[0m\u001b[1;33m)\u001b[0m\u001b[1;33m[\u001b[0m\u001b[1;36m0\u001b[0m\u001b[1;33m]\u001b[0m\u001b[1;33m\u001b[0m\u001b[0m\n\u001b[0m\u001b[0;32m     12\u001b[0m \u001b[1;33m\u001b[0m\u001b[0m\n\u001b[0;32m     13\u001b[0m \u001b[0mprint\u001b[0m\u001b[1;33m(\u001b[0m\u001b[0mvalidate_bst\u001b[0m\u001b[1;33m(\u001b[0m\u001b[0mtree\u001b[0m\u001b[1;33m.\u001b[0m\u001b[0mget_root\u001b[0m\u001b[1;33m(\u001b[0m\u001b[1;33m)\u001b[0m\u001b[1;33m)\u001b[0m\u001b[1;33m)\u001b[0m\u001b[1;33m\u001b[0m\u001b[0m\n",
      "\u001b[1;31mNameError\u001b[0m: name 'isBalanced_helper' is not defined"
     ]
    }
   ],
   "source": [
    "from numpy import inf\n",
    "\n",
    "def validate_bst(root):\n",
    "    def validate_bst_helper(current_node):\n",
    "        if not current_node:\n",
    "            return (True, inf, -inf)\n",
    "        else:\n",
    "            lBalanced, lmin, lmax = validate_bst_helper(current_node.get_left())\n",
    "            rBalanced, rmin, rmax = validate_bst_helper(current_node.get_right())\n",
    "            return lBalanced and (lmax < current_node.get_val() <= rmin) and rBalanced, min(lmin, rmin, current_node.get_val()), max(lmax, rmax, current_node.get_val())\n",
    "    return isBalanced_helper(root)[0]\n",
    "\n",
    "print(validate_bst(tree.get_root()))\n",
    "A = BNode(5, BNode(3, BNode(1), BNode(3.5)), BNode(7, BNode(6), BNode(9)))\n",
    "print(validate_bst(A))\n",
    "B = BNode(4, BNode(2, BNode(1), BNode(3)), BNode(5, None, BNode(7, BNode(6), None)))\n",
    "C = BNode(13, BNode(11, None, BNode(12)), BNode(14))\n",
    "D = BNode(10, B, C)\n",
    "print(validate_bst(D))"
   ]
  },
  {
   "cell_type": "markdown",
   "metadata": {},
   "source": [
    "# Successor\n",
    "\n",
    "Write an algorithm to find the \"next\" node (i.e., in-order successor) of a given node in a binary search tree. You may assume that each node has a link to its parent.\n",
    "\n",
    "__Hints: #79, #91__"
   ]
  },
  {
   "cell_type": "code",
   "execution_count": null,
   "metadata": {},
   "outputs": [],
   "source": [
    "def successor(root):\n",
    "    def leftMostChild(root):\n",
    "        if not root:\n",
    "            return None\n",
    "        else:\n",
    "            if not root.get_left():\n",
    "                return root\n",
    "            else:\n",
    "                return leftMostChild(root.get_left())\n",
    "    def successorHelper(currentNode):\n",
    "        if not currentNode:\n",
    "            return None\n",
    "        else:\n",
    "            if not currentNode.get_right():\n",
    "                if not currentNode.get_parent():\n",
    "                    return None\n",
    "                else:\n",
    "                    parent = currentNode.get_parent()\n",
    "                    while parent and parent.get_left() != currentNode:\n",
    "                        currentNode = parent\n",
    "                        parent = parent.get_parent()\n",
    "                    return parent\n",
    "            else:\n",
    "                return leftMostChild(currentNode.get_right())\n",
    "            \n",
    "    return successorHelper(root)\n",
    "\n",
    "a, b, c, d, e, f, g, h, i, j = BNode(1), BNode(2), BNode(3), BNode(4), BNode(5), BNode(6), BNode(7), BNode(8), BNode(9), BNode(10)\n",
    "k, l, m, n, o, p = BNode(11), BNode(12), BNode(13), BNode(14), BNode(15), BNode(16)\n",
    "root = h\n",
    "root.set_left(d)\n",
    "d.set_parent(h)\n",
    "root.set_right(l)\n",
    "l.set_parent(h)\n",
    "d.set_left(a)\n",
    "a.set_parent(d)\n",
    "a.set_right(b)\n",
    "b.set_parent(a)\n",
    "\n",
    "\n",
    "\n",
    "print(BTree(root))    \n",
    "successor(a).get_val()"
   ]
  },
  {
   "cell_type": "markdown",
   "metadata": {},
   "source": [
    "# Build Order\n",
    "\n",
    "You are given a list of projects and a list of dependencies (which is a list of pairs of projects, where the second project is dependent on the first project). All of a project's dependencies must be built before the project is. Find a build order that will allow the projects to be built. If there is no valid build order, return an error.\n",
    "\n",
    "__EXAMPLE__\n",
    "\n",
    "Input:\n",
    "\n",
    "projects: a, b, c, d, e, f\n",
    "\n",
    "dependencies: (a, d), (f, b), (b, d), (f, a), (d, c)\n",
    "\n",
    "Output: f, e, a, b, d, c\n",
    "\n",
    "__Hints: #26, #47, #60, #85, #725, #133__"
   ]
  },
  {
   "cell_type": "code",
   "execution_count": null,
   "metadata": {},
   "outputs": [],
   "source": [
    "def get_neighbors(vertex, edges):\n",
    "    return [dest for origin, dest in edges if vertex == origin]\n",
    "\n",
    "def DFS_Visit(vertex, edges, vertex_info, timestep):\n",
    "    vertex_info[vertex][0] = True\n",
    "    vertex_info[vertex][1] = timestep\n",
    "    timestep += 1\n",
    "    for neighbor in get_neighbors(vertex, edges):\n",
    "        if not vertex_info[neighbor][0]:\n",
    "            timestep = DFS_Visit(neighbor, edges, vertex_info, timestep)\n",
    "    vertex_info[vertex][-1] = timestep\n",
    "    timestep += 1\n",
    "    return timestep\n",
    "\n",
    "def build_order(vertices, edges):\n",
    "    vertex_info = {vertex: [False, 0, 0] for vertex in vertices}\n",
    "    timestep = 0\n",
    "    for vertex in vertices:\n",
    "        if not vertex_info[vertex][0]:\n",
    "            timestep = DFS_Visit(vertex, edges, vertex_info, timestep)\n",
    "    sorted_vertices = sorted(vertex_info, key=lambda x: vertex_info[x][-1], reverse=True)\n",
    "    return sorted_vertices\n",
    "\n",
    "build_order('b,a,f,d,e,c'.split(','), [('a', 'd'), ('f', 'b'), ('b', 'd'), ('f', 'a'), ('d', 'c')])"
   ]
  },
  {
   "cell_type": "markdown",
   "metadata": {},
   "source": [
    "# First Common Ancestor\n",
    "\n",
    "Design an algorithm and write code to find the first common ancestor of two nodes in a binary tree. Avoid storing additional nodes in a data structure. NOTE: This is not necessarily a binary search tree.\n",
    "\n",
    "__Hints: #70, #76, #28, #36, #46, #70, #80, #96__"
   ]
  },
  {
   "cell_type": "code",
   "execution_count": 11,
   "metadata": {},
   "outputs": [
    {
     "name": "stdout",
     "output_type": "stream",
     "text": [
      "--5---4---2---1--0--5--5.5--6--7--8--8.5--9--9.5--10--10.5--11--12--15--20--22--25-\n",
      "15\n"
     ]
    }
   ],
   "source": [
    "def first_common_ancestor(root, a, b):\n",
    "    def helper(current_node, a, b):\n",
    "        if not current_node:\n",
    "            return (False, False, None)\n",
    "        else:\n",
    "            a_present_left, b_present_left, left_node = helper(current_node.get_left(), a, b)\n",
    "            a_present_right, b_present_right, right_node = helper(current_node.get_right(), a, b)\n",
    "            if a_present_left and b_present_left:\n",
    "                return (a_present_left, b_present_left, left_node)\n",
    "            elif a_present_right and b_present_right:\n",
    "                return (a_present_right, b_present_right, right_node)\n",
    "            elif a_present_left and b_present_right:\n",
    "                return True, True, current_node\n",
    "            elif a_present_right and b_present_left:\n",
    "                return True, True, current_node\n",
    "            else:\n",
    "                return a_present_left or a_present_right or current_node == a, b_present_left or b_present_right or current_node == b, current_node\n",
    "    return helper(root, a, b)[-1]\n",
    "\n",
    "myTree = BTree(BNode(10))\n",
    "myTree.insert(5)\n",
    "myTree.insert(15)\n",
    "myTree.insert(0)\n",
    "myTree.insert(20)\n",
    "myTree.insert(25)\n",
    "myTree.insert(22)\n",
    "myTree.insert(7)\n",
    "myTree.insert(6)\n",
    "myTree.insert(5.5)\n",
    "myTree.insert(9)\n",
    "myTree.insert(8)\n",
    "myTree.insert(9.5)\n",
    "myTree.insert(8.5)\n",
    "myTree.insert(-1)\n",
    "myTree.insert(-2)\n",
    "myTree.insert(-5)\n",
    "myTree.insert(-4)\n",
    "myTree.insert(11)\n",
    "myTree.insert(12)\n",
    "myTree.insert(10.5)\n",
    "print(myTree)\n",
    "x = myTree.get_root()\n",
    "print(first_common_ancestor(x, \n",
    "                            x.get_right().get_left().get_left(), \n",
    "                            x.get_right().get_right().get_right().get_left()).get_val())"
   ]
  },
  {
   "cell_type": "markdown",
   "metadata": {},
   "source": [
    "# BST Sequences\n",
    "\n",
    "A binary search tree was created by traversing through an array from left to right and inserting each element. Given a binary search tree with distinct elements, print all possible arrays that could have led to this tree.\n",
    "\n",
    "__EXAMPLE__\n",
    "\n",
    "Input:\n",
    "Output: {2, 1, 3}, {2, 3, 1}\n",
    "\n",
    "__Hints: #39, #48, #66, #82__"
   ]
  },
  {
   "cell_type": "code",
   "execution_count": 40,
   "metadata": {},
   "outputs": [
    {
     "data": {
      "text/plain": [
       "[[1]]"
      ]
     },
     "execution_count": 40,
     "metadata": {},
     "output_type": "execute_result"
    }
   ],
   "source": [
    "def merge_two_arrs(arr_1, arr_2):\n",
    "    if not arr_2:\n",
    "        return [(arr_1, -1)]\n",
    "    else:\n",
    "        current_elem = arr_2[-1]\n",
    "        merged_arrs = merge_two_arrs(arr_1, arr_2[:-1])\n",
    "        return_ls = []\n",
    "        for arr, index in merged_arrs:\n",
    "            for i in range(len(arr), index, -1):\n",
    "                return_ls.append(((arr[:i] + [current_elem] + arr[i:]), i))\n",
    "        return return_ls\n",
    "    \n",
    "def clear_merged_arr(merged_arr):\n",
    "    return [x for x, y in merged_arr]\n",
    "    \n",
    "clear_merged_arr(merge_two_arrs([], [1]))"
   ]
  },
  {
   "cell_type": "code",
   "execution_count": 53,
   "metadata": {},
   "outputs": [
    {
     "data": {
      "text/plain": [
       "80"
      ]
     },
     "execution_count": 53,
     "metadata": {},
     "output_type": "execute_result"
    }
   ],
   "source": [
    "def bst_sequence(root):\n",
    "    def helper(current_node):\n",
    "        if not current_node:\n",
    "            return []\n",
    "        else:\n",
    "            l_list = helper(current_node.get_left())\n",
    "            r_list = helper(current_node.get_right())\n",
    "            ret_ls = []\n",
    "            flag = False\n",
    "            if l_list and r_list:\n",
    "                for l in l_list:\n",
    "                    for r in r_list:\n",
    "                        ret_ls += clear_merged_arr(merge_two_arrs(l, r))\n",
    "            elif l_list:\n",
    "                for l in l_list:\n",
    "                    ret_ls += clear_merged_arr(merge_two_arrs(l, []))\n",
    "            elif r_list:\n",
    "                for r in r_list:\n",
    "                    ret_ls += clear_merged_arr(merge_two_arrs([], r))\n",
    "            else:\n",
    "                ret_ls.append([current_node.get_val()])\n",
    "                flag = True\n",
    "            \n",
    "            if not flag:\n",
    "                for index in range(len(ret_ls)):\n",
    "                    ret_ls[index] = [current_node.get_val()] + ret_ls[index]\n",
    "            return ret_ls\n",
    "    return helper(root)\n",
    "\n",
    "root = BNode(2, BNode(1, BNode(0), BNode(1.5)), BNode(3, BNode(2.5), BNode(4)))\n",
    "len(bst_sequence(root))"
   ]
  },
  {
   "cell_type": "code",
   "execution_count": 13,
   "metadata": {},
   "outputs": [
    {
     "name": "stdout",
     "output_type": "stream",
     "text": [
      "1\n"
     ]
    },
    {
     "data": {
      "text/plain": [
       "8"
      ]
     },
     "execution_count": 13,
     "metadata": {},
     "output_type": "execute_result"
    }
   ],
   "source": [
    "def insert_in_all_places(order, elem):\n",
    "    all_insertions = []\n",
    "    for i in range(len(order) + 1):\n",
    "        all_insertions.append(order[:i] + [elem] + order[i:])\n",
    "    return all_insertions\n",
    "\n",
    "def permutations(nodes_list):\n",
    "    if len(nodes_list) == 1:\n",
    "        return [[nodes_list[0]]]\n",
    "    else:\n",
    "        smaller_permutations = permutations(nodes_list[1:])\n",
    "        all_permutations = []\n",
    "        for smaller_permut in smaller_permutations:\n",
    "            all_permutations += insert_in_all_places(smaller_permut, nodes_list[0])\n",
    "        return all_permutations\n",
    "\n",
    "def get_height(root):\n",
    "    if not root:\n",
    "        return 0\n",
    "    else:\n",
    "        return 1 + max(get_height(root.get_left()), get_height(root.get_right()))\n",
    "\n",
    "def bst_sequence(root):\n",
    "    myLs = [list() for i in range(get_height(root))]\n",
    "    def insertInList(node, ls, height):\n",
    "        if not node:\n",
    "            return\n",
    "        else:\n",
    "            ls[height].append(node.get_val())\n",
    "            insertInList(node.get_left(), ls, height+1)\n",
    "            insertInList(node.get_right(), ls, height+1)\n",
    "    insertInList(root, myLs, 0)\n",
    "    final_ls = [myLs[0]]\n",
    "    for nodes_list in myLs[1:]:\n",
    "        all_permutations = permutations(nodes_list)\n",
    "        new_list = list()\n",
    "        for combined_perms in final_ls:\n",
    "            for permutation in all_permutations:\n",
    "                new_list.append(combined_perms + permutation)\n",
    "        final_ls = list(new_list)\n",
    "\n",
    "    return final_ls\n",
    "\n",
    "myTree = BTree(BNode(0))\n",
    "myTree.insert(-20)\n",
    "myTree.insert(20)\n",
    "myTree.insert(-40)\n",
    "myTree.insert(40)\n",
    "myTree.insert(-60)\n",
    "myTree.insert(60)\n",
    "print(myTree.get_root().get_right().get_right().get_right().get_elems())\n",
    "#print(len(permutations([1, 2, 3, 4, 5, 6, 7, 8])))\n",
    "len(bst_sequence(myTree.get_root()))"
   ]
  },
  {
   "cell_type": "markdown",
   "metadata": {},
   "source": [
    "# Check Subtree\n",
    "\n",
    "Tl and T2 are two very large binary trees, with Tl much bigger than T2. Create an algorithm to determine if T2 is a subtree of Tl. A tree T2 is a subtree of Tl if there exists a node n in Tl such that the subtree of n is identical to T2. That is, if you cut off the tree at node n, the two trees would be identical.\n",
    "\n",
    "__Hints:#4, #11, #18, #31, #37__"
   ]
  },
  {
   "cell_type": "code",
   "execution_count": 14,
   "metadata": {},
   "outputs": [],
   "source": [
    "def check_subtree(tree_1, tree_2):\n",
    "    def check_equal(node_1, node_2):\n",
    "        if not node_1:\n",
    "            return node_1 == node_2\n",
    "        else:\n",
    "            return node_1.get_val() == node_2.get_val() and check_equal(node_1.get_left(), node_2.get_left()) and check_equal(node_1.get_right(), node_2.get_right())\n",
    "    \n",
    "    def check_helper(tree_1_node, tree_2_root):\n",
    "        if not tree_1_node:\n",
    "            return False\n",
    "        else:\n",
    "            contains = False\n",
    "            if tree_1_node.get_val() == tree_2_root.get_val():\n",
    "                contains = check_equal(tree_1_node, tree_2_root)\n",
    "            return contains or check_helper(tree_1_node.get_left(), tree_2_root) or check_helper(tree_1_node.get_right(), tree_2_root)\n",
    "    return check_helper(tree_1.get_root(), tree_2.get_root())"
   ]
  },
  {
   "cell_type": "markdown",
   "metadata": {},
   "source": [
    "# Random Node\n",
    "\n",
    "You are implementing a binary tree class from scratch which, in addition to insert, find, and delete, has a method getRandomNode() which returns a random node from the tree. All nodes should be equally likely to be chosen. Design and implement an algorithm for getRandomNode, and explain how you would implement the rest of the methods\n",
    "\n",
    "__Hints: #42, #54, #62, #75, #89, #99, #112, #119__"
   ]
  },
  {
   "cell_type": "code",
   "execution_count": 15,
   "metadata": {},
   "outputs": [
    {
     "name": "stdout",
     "output_type": "stream",
     "text": [
      "{60: 1461, 0: 1360, -60: 1510, -40: 1447, 20: 1389, 40: 1419, -20: 1414}\n"
     ]
    },
    {
     "data": {
      "image/png": "[encoded data removed]",
      "text/plain": [
       "<Figure size 432x288 with 1 Axes>"
      ]
     },
     "metadata": {},
     "output_type": "display_data"
    }
   ],
   "source": [
    "from random import random\n",
    "#print(random())\n",
    "\n",
    "def selectRandomNode(root):\n",
    "    def helper(current_node):\n",
    "        total_elems = current_node.num_elems\n",
    "        random_num = random()\n",
    "        if random_num < 1/total_elems:\n",
    "            return current_node\n",
    "        elif current_node.get_left() and current_node.get_right():\n",
    "            select_random_num = random()\n",
    "            if random_num < (current_node.get_left().get_elems() + 1)/total_elems:\n",
    "                return helper(current_node.get_left())\n",
    "            else:\n",
    "                return helper(current_node.get_right())\n",
    "        elif current_node.get_left():\n",
    "            return helper(current_node.get_left())\n",
    "        else:\n",
    "            return helper(current_node.get_right())\n",
    "        \n",
    "    return helper(root)\n",
    "\n",
    "my_dict = {}\n",
    "hist_list = []\n",
    "for _ in range(10000):\n",
    "    elem = selectRandomNode(myTree.get_root()).get_val()\n",
    "    hist_list.append(elem)\n",
    "    if elem in my_dict:\n",
    "        my_dict[elem] += 1\n",
    "    else:\n",
    "        my_dict[elem] = 1\n",
    "\n",
    "import matplotlib.pyplot as plt\n",
    "%matplotlib inline\n",
    "plt.hist(hist_list)\n",
    "print(my_dict)"
   ]
  },
  {
   "cell_type": "markdown",
   "metadata": {},
   "source": [
    "# Paths with Sum\n",
    "\n",
    "You are given a binary tree in which each node contains an integer value (which might be positive or negative). Design an algorithm to count the number of paths that sum to a given value. The path does not need to start or end at the root or a leaf, but it must go downwards (traveling only from parent nodes to child nodes).\n",
    "\n",
    "__Hints:#6, #14, #52, #68, #77, #87, #94, #103, #108, #115__"
   ]
  },
  {
   "cell_type": "code",
   "execution_count": 16,
   "metadata": {},
   "outputs": [
    {
     "data": {
      "text/plain": [
       "10"
      ]
     },
     "execution_count": 16,
     "metadata": {},
     "output_type": "execute_result"
    }
   ],
   "source": [
    "def paths_with_sum(root, target):\n",
    "    my_data_struct = []\n",
    "    def helper(current_node):\n",
    "        if not current_node:\n",
    "            return [], 0\n",
    "        else:\n",
    "            sum_l, l_ways = helper(current_node.get_left())\n",
    "            sum_r, r_ways = helper(current_node.get_right())\n",
    "            total = sum_l + sum_r + [0]\n",
    "            total_ways = l_ways + r_ways\n",
    "            for index in range(len(total)):\n",
    "                total[index] += current_node.get_val()\n",
    "                if total[index] == target:\n",
    "                    total_ways += 1\n",
    "            return total, total_ways\n",
    "        \n",
    "    return helper(root)[-1]\n",
    "\n",
    "myTree = BTree(BNode(0))\n",
    "myTree.insert(0)\n",
    "myTree.insert(0)\n",
    "myTree.insert(0)\n",
    "paths_with_sum(myTree.get_root(), 0)"
   ]
  }
 ],
 "metadata": {
  "kernelspec": {
   "display_name": "Python 3",
   "language": "python",
   "name": "python3"
  },
  "language_info": {
   "codemirror_mode": {
    "name": "ipython",
    "version": 3
   },
   "file_extension": ".py",
   "mimetype": "text/x-python",
   "name": "python",
   "nbconvert_exporter": "python",
   "pygments_lexer": "ipython3",
   "version": "3.6.4"
  }
 },
 "nbformat": 4,
 "nbformat_minor": 2
}
