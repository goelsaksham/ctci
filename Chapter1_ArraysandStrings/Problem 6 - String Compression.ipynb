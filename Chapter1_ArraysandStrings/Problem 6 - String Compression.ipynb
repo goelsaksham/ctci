{
 "cells": [
  {
   "cell_type": "markdown",
   "metadata": {},
   "source": [
    "# String Compression\n",
    "\n",
    "Implement a method to perform basic string compression using the counts of repeated characters. For example, the string aabcccccaaa would become a2blc5a3. If the \"compressed\" string would not become smaller than the original string, your method should return the original string. You can assume the string has only uppercase and lowercase letters (a - z).\n",
    "\n",
    "__Hints:#92, #110__"
   ]
  },
  {
   "cell_type": "code",
   "execution_count": null,
   "metadata": {},
   "outputs": [],
   "source": [
    "def string_compression(string):\n",
    "    new_string = ''\n",
    "    index = 0\n",
    "    while index < len(string):\n",
    "        current_char = string[index]\n",
    "        current_char_freq = 1\n",
    "        next_index = index + 1\n",
    "        while next_index < len(string) and string[next_index] == current_char:\n",
    "            next_char = string[next_index]\n",
    "            next_index += 1\n",
    "            current_char_freq += 1\n",
    "        index = next_index\n",
    "        new_string += f'{current_char}{current_char_freq}'\n",
    "    return new_string\n",
    "\n",
    "string_compression('aabcccccaaa')"
   ]
  }
 ],
 "metadata": {
  "kernelspec": {
   "display_name": "Python 3",
   "language": "python",
   "name": "python3"
  },
  "language_info": {
   "codemirror_mode": {
    "name": "ipython",
    "version": 3
   },
   "file_extension": ".py",
   "mimetype": "text/x-python",
   "name": "python",
   "nbconvert_exporter": "python",
   "pygments_lexer": "ipython3",
   "version": "3.6.4"
  }
 },
 "nbformat": 4,
 "nbformat_minor": 2
}
