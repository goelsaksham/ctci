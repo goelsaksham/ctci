{
 "cells": [
  {
   "cell_type": "markdown",
   "metadata": {},
   "source": [
    "# String Rotation\n",
    "\n",
    "Assume you have a method isSubstringwhich checks if one word is a substring of another. Given two strings, sl and s2, write code to check if s2 is a rotation of sl using only one call to isSubstring (e.g., \"waterbottle\" is a rotation of\"erbottlewat\").\n",
    "\n",
    "__Hints: #34, #88, #104__"
   ]
  },
  {
   "cell_type": "code",
   "execution_count": 12,
   "metadata": {},
   "outputs": [
    {
     "data": {
      "text/plain": [
       "True"
      ]
     },
     "execution_count": 12,
     "metadata": {},
     "output_type": "execute_result"
    }
   ],
   "source": [
    "def isSubstring(str_1, str_2):\n",
    "    return str_2.find(str_1) > -1\n",
    "\n",
    "def isRotation(str_1, str_2):\n",
    "    new_str = str_2 + str_2\n",
    "    return isSubstring(str_1, new_str)\n",
    "\n",
    "isRotation('waterbottle', 'bottlewater')"
   ]
  }
 ],
 "metadata": {
  "kernelspec": {
   "display_name": "Python 3",
   "language": "python",
   "name": "python3"
  },
  "language_info": {
   "codemirror_mode": {
    "name": "ipython",
    "version": 3
   },
   "file_extension": ".py",
   "mimetype": "text/x-python",
   "name": "python",
   "nbconvert_exporter": "python",
   "pygments_lexer": "ipython3",
   "version": "3.6.4"
  }
 },
 "nbformat": 4,
 "nbformat_minor": 2
}
