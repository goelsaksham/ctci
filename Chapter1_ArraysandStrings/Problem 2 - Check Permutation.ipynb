{
 "cells": [
  {
   "cell_type": "markdown",
   "metadata": {},
   "source": [
    "# Check Permutation\n",
    "\n",
    "Given two strings, write a method to decide if one is a permutation of the other.\n",
    "\n",
    "__Hints: #7, #84, #722, #737__"
   ]
  },
  {
   "cell_type": "code",
   "execution_count": 11,
   "metadata": {},
   "outputs": [
    {
     "data": {
      "text/plain": [
       "True"
      ]
     },
     "execution_count": 11,
     "metadata": {},
     "output_type": "execute_result"
    }
   ],
   "source": [
    "def get_character_frequency(string):\n",
    "    char_frequency = dict()\n",
    "    for char in string:\n",
    "        if char in char_frequency:\n",
    "            char_frequency[char] += 1\n",
    "        else:\n",
    "            char_frequency[char] = 1\n",
    "    return char_frequency\n",
    "\n",
    "def check_permutation(str_1, str_2):\n",
    "    if len(str_1) != len(str_2):\n",
    "        return False\n",
    "    \n",
    "    str_1_char_frequency = get_character_frequency(str_1)\n",
    "    str_2_char_frequency = get_character_frequency(str_2)\n",
    "    \n",
    "    for char, frequency in str_1_char_frequency.items():\n",
    "        if char not in str_2_char_frequency:\n",
    "            return False\n",
    "        elif str_2_char_frequency[char] != frequency:\n",
    "            return False\n",
    "        \n",
    "    return True\n",
    "\n",
    "check_permutation('caaba', 'aaacb')"
   ]
  },
  {
   "cell_type": "code",
   "execution_count": null,
   "metadata": {},
   "outputs": [],
   "source": []
  }
 ],
 "metadata": {
  "kernelspec": {
   "display_name": "Python 3",
   "language": "python",
   "name": "python3"
  },
  "language_info": {
   "codemirror_mode": {
    "name": "ipython",
    "version": 3
   },
   "file_extension": ".py",
   "mimetype": "text/x-python",
   "name": "python",
   "nbconvert_exporter": "python",
   "pygments_lexer": "ipython3",
   "version": "3.6.4"
  }
 },
 "nbformat": 4,
 "nbformat_minor": 2
}
