{
 "cells": [
  {
   "cell_type": "markdown",
   "metadata": {},
   "source": [
    "# One Away\n",
    "\n",
    "There are three types of edits that can be performed on strings: insert a character, remove a character, or replace a character. Given two strings, write a function to check if they are one edit (or zero edits) away.\n",
    "\n",
    "__EXAMPLE__\n",
    "\n",
    "pale, ple -> true\n",
    "\n",
    "pales, pale -> true\n",
    "\n",
    "pale, bale -> true\n",
    "\n",
    "pale, bake -> false\n",
    "\n",
    "__Hints:#23, #97, #130__"
   ]
  },
  {
   "cell_type": "code",
   "execution_count": 11,
   "metadata": {},
   "outputs": [
    {
     "data": {
      "text/plain": [
       "True"
      ]
     },
     "execution_count": 11,
     "metadata": {},
     "output_type": "execute_result"
    }
   ],
   "source": [
    "def get_strings(str_1, str_2):\n",
    "    if len(str_1) < len(str_2):\n",
    "        return str_1, str_2\n",
    "    else:\n",
    "        return str_2, str_1\n",
    "    \n",
    "def get_frequency(string):\n",
    "    char_frequency = dict()\n",
    "    for char in string:\n",
    "        if char in char_frequency:\n",
    "            char_frequency[char] += 1\n",
    "        else:\n",
    "            char_frequency[char] = 1\n",
    "    return char_frequency\n",
    "    \n",
    "def addition_or_removing(str_1, str_2):\n",
    "    smaller, larger = get_strings(str_1, str_2)\n",
    "    smaller_charfreq, larger_charfreq = get_frequency(smaller), get_frequency(larger)\n",
    "    \n",
    "    for char in smaller_charfreq:\n",
    "        if char not in larger_charfreq:\n",
    "            return False\n",
    "        elif smaller_charfreq[char] != larger_charfreq[char]:\n",
    "            return False\n",
    "    \n",
    "    return True\n",
    "\n",
    "def replacement(str_1, str_2):\n",
    "    smaller, larger = get_strings(str_1, str_2)\n",
    "    smaller_charfreq, larger_charfreq = get_frequency(smaller), get_frequency(larger)\n",
    "    not_counter = 0\n",
    "    freq_counter = 0\n",
    "    for char in smaller_charfreq:\n",
    "        if char not in larger_charfreq:\n",
    "            not_counter += 1\n",
    "        elif smaller_charfreq[char] != larger_charfreq[char]:\n",
    "            freq_counter += 1\n",
    "    \n",
    "    return not_counter\n",
    "\n",
    "def one_away(str_1, str_2):\n",
    "    if abs(len(str_1) - len(str_2)) == 1:\n",
    "        return addition_or_removing(str_1, str_2)\n",
    "    elif len(str_1) == len(str_2):\n",
    "        return (str_1 == str_2) or replacement(str_1, str_2)\n",
    "    else:\n",
    "        return False\n",
    "    \n",
    "one_away('pale', 'bake')"
   ]
  },
  {
   "cell_type": "code",
   "execution_count": null,
   "metadata": {},
   "outputs": [],
   "source": []
  }
 ],
 "metadata": {
  "kernelspec": {
   "display_name": "Python 3",
   "language": "python",
   "name": "python3"
  },
  "language_info": {
   "codemirror_mode": {
    "name": "ipython",
    "version": 3
   },
   "file_extension": ".py",
   "mimetype": "text/x-python",
   "name": "python",
   "nbconvert_exporter": "python",
   "pygments_lexer": "ipython3",
   "version": "3.6.4"
  }
 },
 "nbformat": 4,
 "nbformat_minor": 2
}
