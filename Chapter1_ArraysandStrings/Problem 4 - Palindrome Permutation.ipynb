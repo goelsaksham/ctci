{
 "cells": [
  {
   "cell_type": "markdown",
   "metadata": {},
   "source": [
    "# Palindrome Permutation\n",
    "\n",
    "Given a string, write a function to check if it is a permutation of a palindrome.\n",
    "A palindrome is a word or phrase that is the same forwards and backwards. A permutation\n",
    "is a rearrangement of letters. The palindrome does not need to be limited to just dictionary words.\n",
    "\n",
    "__EXAMPLE__\n",
    "\n",
    "Input: Tact Coa\n",
    "\n",
    "Output: True (permutations: \"taco cat\", \"atco eta\", etc.)\n",
    "\n",
    "__Hints: #106, #121, #134, #136__"
   ]
  },
  {
   "cell_type": "code",
   "execution_count": null,
   "metadata": {},
   "outputs": [],
   "source": [
    "def check_palindrome_frequency(characters_frequency, string_length):\n",
    "    odd_nums = 0\n",
    "    for freq in characters_frequency.values():\n",
    "        if freq % 2 == 1:\n",
    "            odd_nums += 1\n",
    "    return (string_length%2 == 0) or (odd_nums == 1)\n",
    "\n",
    "def get_character_frequency(string):\n",
    "    char_frequency = dict()\n",
    "    for char in string:\n",
    "        if char not in char_frequency:\n",
    "            char_frequency[char] = 1\n",
    "        else:\n",
    "            char_frequency[char] += 1\n",
    "    return char_frequency\n",
    "\n",
    "def palindrome_permutation(string):\n",
    "    import re\n",
    "    processed_string = re.sub('%s', '', string)\n",
    "    return check_palindrome_frequency()"
   ]
  }
 ],
 "metadata": {
  "kernelspec": {
   "display_name": "Python 3",
   "language": "python",
   "name": "python3"
  },
  "language_info": {
   "codemirror_mode": {
    "name": "ipython",
    "version": 3
   },
   "file_extension": ".py",
   "mimetype": "text/x-python",
   "name": "python",
   "nbconvert_exporter": "python",
   "pygments_lexer": "ipython3",
   "version": "3.6.4"
  }
 },
 "nbformat": 4,
 "nbformat_minor": 2
}
