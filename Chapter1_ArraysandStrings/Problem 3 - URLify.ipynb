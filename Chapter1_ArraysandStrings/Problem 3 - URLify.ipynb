{
 "cells": [
  {
   "cell_type": "markdown",
   "metadata": {},
   "source": [
    "# URLify\n",
    "\n",
    "Write a method to replace all spaces in a string with '%20'. You may assume that the string has sufficient space at the end to hold the additional characters, and that you are given the \"true\" length of the string. (Note: If implementing in Java, please use a character array so that you can perform this operation in place.)\n",
    "\n",
    "__EXAMPLE__\n",
    "\n",
    "Input: \"Mr John Smith     \", 13\n",
    "\n",
    "Output: \"Mr%20John%20Smith\"\n",
    "\n",
    "\n",
    "__Hints: #53, # 118__"
   ]
  },
  {
   "cell_type": "code",
   "execution_count": 13,
   "metadata": {},
   "outputs": [
    {
     "name": "stdout",
     "output_type": "stream",
     "text": [
      "Mr%20John%20Smith\n",
      "Mr%20John%20Smith\n",
      "Mra%20John%20Smith\n",
      "Mr%20%20John%20Smith\n"
     ]
    }
   ],
   "source": [
    "# First implementation with extra memory\n",
    "def urlify(char_array, str_length):\n",
    "    char_list = ['']*(len(char_array))\n",
    "    current_index = 0\n",
    "    for char in char_array[:str_length]:\n",
    "        if char == ' ':\n",
    "            char_list[current_index] = '%'\n",
    "            char_list[current_index+1] = '2'\n",
    "            char_list[current_index+2] = '0'\n",
    "            current_index += 3\n",
    "        else:\n",
    "            char_list[current_index] = char\n",
    "            current_index += 1\n",
    "    return char_list\n",
    "\n",
    "print(''.join(urlify('Mr John Smith    ', 13)))\n",
    "\n",
    "\n",
    "# Second implementation with inplace memory\n",
    "# Need to go from back\n",
    "def urlify(char_array, str_length):\n",
    "    back_index = str_length - 1\n",
    "    currrent_index = len(char_array) - 1\n",
    "    while currrent_index > -1:\n",
    "        current_char = char_array[back_index]\n",
    "        if current_char == ' ':\n",
    "            char_array[currrent_index] = '0'\n",
    "            char_array[currrent_index-1] = '2'\n",
    "            char_array[currrent_index-2] = '%'\n",
    "            currrent_index -= 3\n",
    "        else:\n",
    "            char_array[currrent_index] = current_char\n",
    "            currrent_index -= 1\n",
    "        back_index -= 1\n",
    "    \n",
    "    return char_array\n",
    "\n",
    "print(''.join(urlify('M.r. .J.o.h.n. .S.m.i.t.h. . . . '.split('.'), 13)))\n",
    "print(''.join(urlify('M.r.a. .J.o.h.n. .S.m.i.t.h. . . . '.split('.'), 14)))\n",
    "print(''.join(urlify('M.r. . .J.o.h.n. .S.m.i.t.h. . . . . . '.split('.'), 14)))"
   ]
  },
  {
   "cell_type": "code",
   "execution_count": null,
   "metadata": {},
   "outputs": [],
   "source": []
  }
 ],
 "metadata": {
  "kernelspec": {
   "display_name": "Python 3",
   "language": "python",
   "name": "python3"
  },
  "language_info": {
   "codemirror_mode": {
    "name": "ipython",
    "version": 3
   },
   "file_extension": ".py",
   "mimetype": "text/x-python",
   "name": "python",
   "nbconvert_exporter": "python",
   "pygments_lexer": "ipython3",
   "version": "3.6.4"
  }
 },
 "nbformat": 4,
 "nbformat_minor": 2
}
