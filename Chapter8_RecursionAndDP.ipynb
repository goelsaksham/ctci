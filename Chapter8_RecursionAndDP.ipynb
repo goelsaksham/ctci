{
 "cells": [
  {
   "cell_type": "markdown",
   "metadata": {},
   "source": [
    "# Triple Step\n",
    "\n",
    "A child is running up a staircase with n steps and can hop either 1 step, 2 steps, or 3 steps at a time. Implement a method to count how many possible ways the child can run up the stairs.\n",
    "\n",
    "__Hints: #152, #178, #217, #237, #262, #359__"
   ]
  },
  {
   "cell_type": "code",
   "execution_count": 24,
   "metadata": {},
   "outputs": [],
   "source": [
    "from timeit import default_timer as timer"
   ]
  },
  {
   "cell_type": "code",
   "execution_count": 38,
   "metadata": {},
   "outputs": [
    {
     "name": "stdout",
     "output_type": "stream",
     "text": [
      "Recursion: 121415, Time: 0.08024171437691052\n",
      "Dynamic Programming: 121415, Time: 8.375302024887787e-05\n"
     ]
    }
   ],
   "source": [
    "def triple_step_recur(n):\n",
    "    if n < 0:\n",
    "        return 0\n",
    "    elif n == 0:\n",
    "        return 1\n",
    "    else:\n",
    "        return triple_step_recur(n-1) + triple_step_recur(n-2) + triple_step_recur(n-3)\n",
    "\n",
    "def triple_step_dp(n):\n",
    "    ls = [0] * (n + 1)\n",
    "    ls[0] = 1\n",
    "    for current_index in range(n+1):\n",
    "        if current_index + 1 < n + 1:\n",
    "            ls[current_index + 1] += ls[current_index]\n",
    "        if current_index + 2 < n + 1:\n",
    "            ls[current_index + 2] += ls[current_index]\n",
    "        if current_index + 3 < n + 1:\n",
    "            ls[current_index + 3] += ls[current_index]\n",
    "    return ls[-1]\n",
    "\n",
    "n = 20\n",
    "start = timer()\n",
    "recur = triple_step_recur(n)\n",
    "print(f'Recursion: {recur}, Time: {timer() - start}')\n",
    "start = timer()\n",
    "dp = triple_step_dp(n)\n",
    "print(f'Dynamic Programming: {dp}, Time: {timer() - start}')"
   ]
  },
  {
   "cell_type": "markdown",
   "metadata": {},
   "source": [
    "# Robot in a Grid\n",
    "\n",
    "Imagine a robot sitting on the upper left corner of grid with r rows and c columns. The robot can only move in two directions, right and down, but certain cells are \"off limits\" such that\n",
    "the robot cannot step on them. Design an algorithm to find a path for the robot from the top left to the bottom right.\n",
    "\n",
    "__Hints: #331, #360, #388__"
   ]
  },
  {
   "cell_type": "code",
   "execution_count": 11,
   "metadata": {},
   "outputs": [
    {
     "data": {
      "text/plain": [
       "['right',\n",
       " 'right',\n",
       " 'right',\n",
       " 'right',\n",
       " 'right',\n",
       " 'right',\n",
       " 'right',\n",
       " 'right',\n",
       " 'right',\n",
       " 'down',\n",
       " 'down',\n",
       " 'down',\n",
       " 'down',\n",
       " 'down',\n",
       " 'down',\n",
       " 'down',\n",
       " 'down',\n",
       " 'down']"
      ]
     },
     "execution_count": 11,
     "metadata": {},
     "output_type": "execute_result"
    }
   ],
   "source": [
    "def robot_in_a_grid_rec(r, c, off_limits):\n",
    "    def helper(i, j, r, c, moves):\n",
    "        if i >= r or j >= c:\n",
    "            return []\n",
    "        if i == r - 1 and j == c - 1:\n",
    "            return moves\n",
    "        elif (i, j) in off_limits:\n",
    "            return []\n",
    "        else:\n",
    "            right_moves = helper(i, j + 1, r, c, moves + ['right'])\n",
    "            if right_moves:\n",
    "                return right_moves\n",
    "            else:\n",
    "                return helper(i + 1, j, r, c, moves + ['down'])\n",
    "    return helper(0, 0, r, c, [])\n",
    "\n",
    "robot_in_a_grid_rec(10, 10, [(1, 1), (1, 2)])"
   ]
  },
  {
   "cell_type": "markdown",
   "metadata": {},
   "source": [
    "# Magic Index\n",
    "\n",
    "A magic index in an array A [ 0 ••• n -1] is defined to be an index such that A[ i] = i. Given a sorted array of distinct integers, write a method to find a magic index, if one exists, in\n",
    "array A. \n",
    "\n",
    "__FOLLOW UP__\n",
    "\n",
    "What if the values are not distinct?\n",
    "\n",
    "__Hints:#770, #204, #240, #286, #340__"
   ]
  },
  {
   "cell_type": "code",
   "execution_count": 8,
   "metadata": {},
   "outputs": [],
   "source": [
    "def magic_index(arr):\n",
    "    magic_indices = []\n",
    "    current_index = 0\n",
    "    while current_index < len(arr):\n",
    "        if arr[current_index] < current_index:\n",
    "            current_index += 1\n",
    "        elif arr[current_index] == current_index:\n",
    "            magic_indices.append(current_index)\n",
    "            current_index += 1\n",
    "        else:\n",
    "            current_index = arr[current_index] + 1\n",
    "            # For followup\n",
    "            #current_index = arr[current_index]\n",
    "    return magic_indices"
   ]
  },
  {
   "cell_type": "markdown",
   "metadata": {},
   "source": [
    "# Power Set\n",
    "\n",
    "Write a method to return all subsets of a set.\n",
    "\n",
    "__Hints: #273, #290, #338, #354, #373__"
   ]
  },
  {
   "cell_type": "code",
   "execution_count": 15,
   "metadata": {},
   "outputs": [
    {
     "data": {
      "text/plain": [
       "[[],\n",
       " [4],\n",
       " [3],\n",
       " [4, 3],\n",
       " [2],\n",
       " [4, 2],\n",
       " [3, 2],\n",
       " [4, 3, 2],\n",
       " [1],\n",
       " [4, 1],\n",
       " [3, 1],\n",
       " [4, 3, 1],\n",
       " [2, 1],\n",
       " [4, 2, 1],\n",
       " [3, 2, 1],\n",
       " [4, 3, 2, 1]]"
      ]
     },
     "execution_count": 15,
     "metadata": {},
     "output_type": "execute_result"
    }
   ],
   "source": [
    "def power_set(my_set):\n",
    "    if not my_set:\n",
    "        return [[]]\n",
    "    else:\n",
    "        current_elem = my_set[0]\n",
    "        subset_powerset = power_set(my_set[1:])\n",
    "        copy_powerset = power_set(my_set[1:])\n",
    "        for subset in copy_powerset:\n",
    "            subset.append(current_elem)\n",
    "        return subset_powerset + copy_powerset\n",
    "    \n",
    "power_set([1, 2, 3, 4])"
   ]
  },
  {
   "cell_type": "markdown",
   "metadata": {},
   "source": [
    "# Recursive Multiply\n",
    "\n",
    "Write a recursive function to multiply two positive integers without using the *operator.You can use addition, subtraction, and bit shifting, but you should minimize the number\n",
    "of those operations.\n",
    "\n",
    "__Hints: #166, #203, #227, #234, #246, #280__"
   ]
  },
  {
   "cell_type": "code",
   "execution_count": 48,
   "metadata": {},
   "outputs": [
    {
     "data": {
      "text/plain": [
       "12"
      ]
     },
     "execution_count": 48,
     "metadata": {},
     "output_type": "execute_result"
    }
   ],
   "source": [
    "def recur_mult(num_1, num_2):\n",
    "    if num_1 < 2:\n",
    "        return num_2\n",
    "    else:\n",
    "        if not num_1%2:\n",
    "            return recur_mult(num_1 >> 1, num_2) << 1\n",
    "        else:\n",
    "            return (recur_mult(num_1 >> 1, num_2) << 1) + recur_mult(1, num_2)\n",
    "\n",
    "recur_mult(4, 3)"
   ]
  },
  {
   "cell_type": "markdown",
   "metadata": {},
   "source": [
    "# Towers of Hanoi\n",
    "\n",
    "In the classic problem of the Towers of Hanoi, you have 3 towers and N disks of different sizes which can slide onto any tower. The puzzle starts with disks sorted in ascending order\n",
    "of size from top to bottom (i.e., each disk sits on top of an even larger one). You have the following constraints:\n",
    "\n",
    "(1) Only one disk can be moved at a time.\n",
    "(2) A disk is slid off the top of one tower onto another tower.\n",
    "(3) A disk cannot be placed on top of a smaller disk.\n",
    "\n",
    "Write a program to move the disks from the first tower to the last using stacks.\n",
    "\n",
    "__Hints: #744, #224, #250, #272, #318__"
   ]
  },
  {
   "cell_type": "code",
   "execution_count": 73,
   "metadata": {},
   "outputs": [
    {
     "name": "stdout",
     "output_type": "stream",
     "text": [
      "[63]\n",
      "********************************\n",
      "Left = \n",
      "Middle = \n",
      "Right = 1->2->3->4->5->6->\n",
      "********************************\n"
     ]
    }
   ],
   "source": [
    "class Stack:\n",
    "    def __init__(self):\n",
    "        self.stack = None\n",
    "        \n",
    "    def push(self, elem):\n",
    "        if self.stack:\n",
    "            self.stack.append(elem)\n",
    "        else:\n",
    "            self.stack = [elem]\n",
    "    \n",
    "    def pop(self):\n",
    "        if self.stack:\n",
    "            elem = self.stack[-1]\n",
    "            self.stack = self.stack[:-1]\n",
    "            return elem\n",
    "        \n",
    "    def get_length(self):\n",
    "        if not self.stack:\n",
    "            return 0\n",
    "        return len(self.stack)\n",
    "    \n",
    "    def isEmpty(self):\n",
    "        return self.get_length() == 0\n",
    "    \n",
    "    def __str__(self):\n",
    "        ret_str = ''\n",
    "        if not self.isEmpty():\n",
    "            for elem in self.stack[::-1]:\n",
    "                ret_str += str(elem) + '->'\n",
    "        return ret_str\n",
    "\n",
    "def solve_hanoi(l, m, r):\n",
    "    counter_ls = [0]\n",
    "    def helper(start, end, middle, num, counter_ls, debug = False):\n",
    "        if num == 1:\n",
    "            if debug:\n",
    "                print(f'********************************')\n",
    "                print(f'Left = {l}')\n",
    "                print(f'Middle = {m}')\n",
    "                print(f'Right = {r}')\n",
    "                print(f'********************************')\n",
    "            counter_ls[0] += 1\n",
    "            end.push(start.pop())\n",
    "        else:\n",
    "            helper(start, middle, end, num - 1, counter_ls, debug)\n",
    "            helper(start, end, middle, 1, counter_ls, debug)\n",
    "            helper(middle, end, start, num - 1, counter_ls, debug)\n",
    "    helper(l, r, m, l.get_length(), counter_ls)\n",
    "    print(counter_ls)\n",
    "    return\n",
    "\n",
    "l = Stack()\n",
    "l.push(6)\n",
    "l.push(5)\n",
    "l.push(4)\n",
    "l.push(3)\n",
    "l.push(2)\n",
    "l.push(1)\n",
    "r = Stack()\n",
    "m = Stack()\n",
    "solve_hanoi(l, m, r)\n",
    "print(f'********************************')\n",
    "print(f'Left = {l}')\n",
    "print(f'Middle = {m}')\n",
    "print(f'Right = {r}')\n",
    "print(f'********************************')\n",
    "#while not r.isEmpty():\n",
    "#    print(r.pop())"
   ]
  },
  {
   "cell_type": "markdown",
   "metadata": {},
   "source": [
    "# Permutations without Dups\n",
    "\n",
    "Write a method to compute all permutations of a string of unique characters.\n",
    "\n",
    "__Hints:#150, #185, #200, #267, #278, #309, #335, #356__"
   ]
  },
  {
   "cell_type": "code",
   "execution_count": 85,
   "metadata": {},
   "outputs": [
    {
     "data": {
      "text/plain": [
       "5040"
      ]
     },
     "execution_count": 85,
     "metadata": {},
     "output_type": "execute_result"
    }
   ],
   "source": [
    "def permutation(my_str):\n",
    "    if not my_str:\n",
    "        return ['']\n",
    "    elif len(my_str) == 1:\n",
    "        return [my_str]\n",
    "    else:\n",
    "        current_character = my_str[0]\n",
    "        subset_permutations = permutation(my_str[1:])\n",
    "        all_permutations = []\n",
    "        for sub_permutation in subset_permutations:\n",
    "            for i in range(len(sub_permutation) + 1):\n",
    "                all_permutations.append(sub_permutation[:i] + current_character + sub_permutation[i:])\n",
    "        return all_permutations\n",
    "\n",
    "len(permutation(\"1234567\"))"
   ]
  },
  {
   "cell_type": "markdown",
   "metadata": {},
   "source": [
    "# Permutations with Dups\n",
    "\n",
    "Write a method to compute all permutations of a string whose characters are not necessarily unique. The list of permutations should not have duplicates.\n",
    "\n",
    "__Hints:#761, #790, #222, #255__"
   ]
  },
  {
   "cell_type": "code",
   "execution_count": 89,
   "metadata": {},
   "outputs": [
    {
     "data": {
      "text/plain": [
       "10"
      ]
     },
     "execution_count": 89,
     "metadata": {},
     "output_type": "execute_result"
    }
   ],
   "source": [
    "def permutation(my_str):\n",
    "    if not my_str:\n",
    "        return set([''])\n",
    "    elif len(my_str) == 1:\n",
    "        return set([my_str])\n",
    "    else:\n",
    "        current_character = my_str[0]\n",
    "        subset_permutations = permutation(my_str[1:])\n",
    "        all_permutations = set()\n",
    "        for sub_permutation in subset_permutations:\n",
    "            for i in range(len(sub_permutation) + 1):\n",
    "                all_permutations.add(sub_permutation[:i] + current_character + sub_permutation[i:])\n",
    "        return all_permutations\n",
    "\n",
    "len(permutation(\"12112\"))"
   ]
  },
  {
   "cell_type": "markdown",
   "metadata": {},
   "source": [
    "# Parens\n",
    "\n",
    "Implement an algorithm to print all valid (e.g., properly opened and closed) combinations of n pairs of parentheses.\n",
    "\n",
    "__EXAMPLE__\n",
    "Input: 3\n",
    "Output: ( ( () ) ) , ( () () ) , ( () ) () , () ( () ) , () () ()\n",
    "Hints: #138, #174, #787, #209, #243, #265, #295"
   ]
  },
  {
   "cell_type": "code",
   "execution_count": 101,
   "metadata": {},
   "outputs": [
    {
     "data": {
      "text/plain": [
       "{'(((())))',\n",
       " '((()()))',\n",
       " '((())())',\n",
       " '((()))()',\n",
       " '(()(()))',\n",
       " '(()()())',\n",
       " '(()())()',\n",
       " '(())(())',\n",
       " '(())()()',\n",
       " '()((()))',\n",
       " '()(()())',\n",
       " '()(())()',\n",
       " '()()(())',\n",
       " '()()()()'}"
      ]
     },
     "execution_count": 101,
     "metadata": {},
     "output_type": "execute_result"
    }
   ],
   "source": [
    "def parens(n):\n",
    "    def helper(current_str, left, right):\n",
    "        if left == 0 and right == 0:\n",
    "            return set([current_str])\n",
    "        elif left == 0:\n",
    "            return helper(current_str + ')', left, right - 1)\n",
    "        else:\n",
    "            all_perms = set()\n",
    "            \n",
    "            new_str = current_str\n",
    "            current_right_value = right\n",
    "            for _ in range(right - left):\n",
    "                current_right_value -= 1\n",
    "                new_str = new_str + ')'\n",
    "                all_perms = all_perms.union(helper(new_str, left, current_right_value))\n",
    "                \n",
    "            all_perms = all_perms.union(helper(current_str + '(', left - 1, right))\n",
    "            return all_perms\n",
    "        \n",
    "    return helper('', n, n)\n",
    "\n",
    "parens(4)"
   ]
  },
  {
   "cell_type": "markdown",
   "metadata": {},
   "source": [
    "# Paint Fill\n",
    "\n",
    "Implement the \"paint fill\" function that one might see on many image editing programs. That is, given a screen (represented by a two-dimensional array of colors), a point, and a new color,\n",
    "fill in the surrounding area until the color changes from the original color. \n",
    "\n",
    "__Hints: #364, #382__"
   ]
  },
  {
   "cell_type": "code",
   "execution_count": 111,
   "metadata": {},
   "outputs": [
    {
     "data": {
      "text/plain": [
       "array([['B', 'B', 'B', 'R', 'B'],\n",
       "       ['B', 'R', 'R', 'R', 'B'],\n",
       "       ['B', 'R', 'B', 'R', 'B'],\n",
       "       ['B', 'B', 'B', 'B', 'B'],\n",
       "       ['B', 'B', 'B', 'B', 'B']], dtype='<U1')"
      ]
     },
     "execution_count": 111,
     "metadata": {},
     "output_type": "execute_result"
    }
   ],
   "source": [
    "import numpy as np\n",
    "\n",
    "def create_canvas(string):\n",
    "    return np.array([sub_str.strip().split(',') for sub_str in string.strip().split(';')])\n",
    "\n",
    "def paint_fill(canvas, point, new_color):\n",
    "    def helper(canvas, point, orig_color, new_color):\n",
    "        x, y = point\n",
    "        if x < 0 or x >= len(canvas) or y < 0 or y >= len(canvas):\n",
    "            return\n",
    "        elif canvas[point] == new_color or canvas[point] != orig_color:\n",
    "            return\n",
    "        else:\n",
    "            x, y = point\n",
    "            canvas[point] = new_color\n",
    "            helper(canvas, (x + 1, y), orig_color, new_color)\n",
    "            helper(canvas, (x - 1, y), orig_color, new_color)\n",
    "            helper(canvas, (x, y + 1), orig_color, new_color)\n",
    "            helper(canvas, (x, y - 1), orig_color, new_color)\n",
    "    helper(canvas, point, canvas[point], new_color)\n",
    "    \n",
    "canvas = create_canvas('W,W,W,R,W;W,R,R,R,W;W,R,W,R,W;W,W,W,W,W;W,W,W,W,W')\n",
    "paint_fill(canvas, (0, 0), 'B')\n",
    "canvas"
   ]
  },
  {
   "cell_type": "markdown",
   "metadata": {},
   "source": [
    "# Coins\n",
    "\n",
    "Given an infinite number of quarters (25 cents), dimes (10 cents), nickels (5 cents), and pennies (1 cent), write code to calculate the number of ways of representing n cents.\n",
    "\n",
    "__Hints: #300, #324, #343, #380, #394__"
   ]
  },
  {
   "cell_type": "code",
   "execution_count": 129,
   "metadata": {},
   "outputs": [
    {
     "data": {
      "text/plain": [
       "3"
      ]
     },
     "execution_count": 129,
     "metadata": {},
     "output_type": "execute_result"
    }
   ],
   "source": [
    "def coins(n):\n",
    "    if n < 0:\n",
    "        return 0\n",
    "    elif n < 5:\n",
    "        return 1\n",
    "    elif n == 5:\n",
    "        return 2\n",
    "    else:\n",
    "        return coins(n - 1) + coins(n - 5) + coins(n - 10) + coins(n- 25)\n",
    "\n",
    "coins(6)"
   ]
  },
  {
   "cell_type": "markdown",
   "metadata": {},
   "source": [
    "# Eight Queens\n",
    "\n",
    "Write an algorithm to print all ways of arranging eight queens on an 8x8 chess board so that none of them share the same row, column, or diagonal. In this case, \"diagonal\" means all\n",
    "diagonals, not just the two that bisect the board.\n",
    "\n",
    "__Hints: #308, #350, #371__"
   ]
  },
  {
   "cell_type": "code",
   "execution_count": 139,
   "metadata": {},
   "outputs": [
    {
     "data": {
      "text/plain": [
       "92"
      ]
     },
     "execution_count": 139,
     "metadata": {},
     "output_type": "execute_result"
    }
   ],
   "source": [
    "def eight_queens(n):\n",
    "    def check_if_valid(queen_placements):\n",
    "        my_hash = set()\n",
    "        for i in queen_placements:\n",
    "            if i in my_hash:\n",
    "                return False\n",
    "            else:\n",
    "                my_hash.add(i)\n",
    "        \n",
    "        for i in range(len(queen_placements)):\n",
    "            for j in range(i+1, len(queen_placements)):\n",
    "                if abs(queen_placements[i] - queen_placements[j]) == j - i:\n",
    "                    return False\n",
    "        return True\n",
    "    \n",
    "    def helper(current_sol, n, all_sol):\n",
    "        if len(current_sol) == n:\n",
    "            all_sol.append(current_sol)\n",
    "        else:\n",
    "            for col in range(n):\n",
    "                new_sol = current_sol + [col]\n",
    "                if check_if_valid(new_sol):\n",
    "                    helper(new_sol, n, all_sol)\n",
    "    all_sols = []\n",
    "    helper([], n, all_sols)\n",
    "    return all_sols\n",
    "\n",
    "len(eight_queens(8))"
   ]
  },
  {
   "cell_type": "markdown",
   "metadata": {},
   "source": [
    "# Stack of Boxes\n",
    "\n",
    "You have a stack of n boxes, with widths wi , heights hi, and depths di. The boxes cannot be rotated and can only be stacked on top of one another if each box in the stack is strictly\n",
    "larger than the box above it in width, height, and depth. Implement a method to compute the height of the tallest possible stack. The height of a stack is the sum of the heights of each box.\n",
    "\n",
    "__Hints:#755, #194, #274, #260, #322, #368, #378__"
   ]
  },
  {
   "cell_type": "code",
   "execution_count": 203,
   "metadata": {},
   "outputs": [],
   "source": [
    "def stack_of_boxes(boxes):\n",
    "    def can_put(box_1, box_2):\n",
    "        return all([i > j for i, j in list(zip(box_1, box_2))])\n",
    "    \n",
    "    def helper(current_stack, current_combo):\n",
    "        if not current_stack:\n",
    "            return [current_combo]\n",
    "        else:\n",
    "            all_boxes = []\n",
    "            flag = True\n",
    "            for box in current_stack:\n",
    "                if can_put(current_combo[-1], box):\n",
    "                    flag = False\n",
    "                    new_stack = set(current_stack)\n",
    "                    new_stack.remove(box)\n",
    "                    new_combo = list(current_combo)\n",
    "                    new_combo.append(box)\n",
    "                    all_boxes += helper(new_stack, new_combo)\n",
    "            if flag:\n",
    "                return [current_combo]\n",
    "            else:\n",
    "                return  all_boxes\n",
    "    \n",
    "    diff_configs = []\n",
    "    for box in boxes:\n",
    "        stack = set(boxes)\n",
    "        stack.remove(box)\n",
    "        diff_configs += helper(stack, [box])\n",
    "    \n",
    "    max_stack = max(diff_configs, key = lambda each_stack: sum([height for _, _, height in each_stack]))\n",
    "    return sum([height for _, _, height in max_stack]), max_stack"
   ]
  },
  {
   "cell_type": "code",
   "execution_count": 204,
   "metadata": {},
   "outputs": [
    {
     "data": {
      "text/plain": [
       "(11, [(9, 4, 7), (6, 2, 3), (1, 0, 1)])"
      ]
     },
     "execution_count": 204,
     "metadata": {},
     "output_type": "execute_result"
    }
   ],
   "source": [
    "stack_of_boxes({(7, 6, 5), (3, 2, 1), (1, 0, 1), (9, 4, 7), (6, 2, 3), (4, 7, 5), (3, 2, 2)})"
   ]
  },
  {
   "cell_type": "markdown",
   "metadata": {},
   "source": [
    "# Boolean Evaluation\n",
    "\n",
    "Given a boolean expression consisting of the symbols 0 (false), 1 (true), & (AND), I (OR), and /\\ (XOR), and a desired boolean result value result, implement a function to\n",
    "count the number of ways of parenthesizing the expression such that it evaluates to result. \n",
    "\n",
    "__EXAMPLE__\n",
    "\n",
    "countEval(\"l /\\01011\", false) -> 2\n",
    "\n",
    "countEval(\"0&0&0&1/\\ ll0\", true) -> 10\n",
    "\n",
    "__Hints: #748, #168, #197, #305, #327__"
   ]
  },
  {
   "cell_type": "code",
   "execution_count": null,
   "metadata": {},
   "outputs": [],
   "source": [
    "def countEval()"
   ]
  }
 ],
 "metadata": {
  "kernelspec": {
   "display_name": "Python 3",
   "language": "python",
   "name": "python3"
  },
  "language_info": {
   "codemirror_mode": {
    "name": "ipython",
    "version": 3
   },
   "file_extension": ".py",
   "mimetype": "text/x-python",
   "name": "python",
   "nbconvert_exporter": "python",
   "pygments_lexer": "ipython3",
   "version": "3.6.4"
  }
 },
 "nbformat": 4,
 "nbformat_minor": 2
}
