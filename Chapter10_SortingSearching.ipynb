{
 "cells": [
  {
   "cell_type": "code",
   "execution_count": 12,
   "metadata": {},
   "outputs": [
    {
     "data": {
      "text/plain": [
       "[1, 1, 2, 4, 7, 8, 10, 10, 11, 25]"
      ]
     },
     "execution_count": 12,
     "metadata": {},
     "output_type": "execute_result"
    }
   ],
   "source": [
    "def merge(arr_1, arr_2):\n",
    "    new_arr = []\n",
    "    arr_1_index = 0\n",
    "    arr_2_index = 0\n",
    "    current_index = 0\n",
    "    while arr_1_index < len(arr_1) or arr_2_index < len(arr_2):\n",
    "        if arr_1_index < len(arr_1) and arr_2_index < len(arr_2):\n",
    "            if arr_1[arr_1_index] < arr_2[arr_2_index]:\n",
    "                new_arr.append(arr_1[arr_1_index])\n",
    "                arr_1_index += 1\n",
    "            else:\n",
    "                new_arr.append(arr_2[arr_2_index])\n",
    "                arr_2_index += 1\n",
    "        elif arr_1_index < len(arr_1):\n",
    "            new_arr.append(arr_1[arr_1_index])\n",
    "            arr_1_index += 1\n",
    "        else:\n",
    "            new_arr.append(arr_2[arr_2_index])\n",
    "            arr_2_index += 1\n",
    "    return new_arr\n",
    "\n",
    "def merge_sort(my_array):\n",
    "    if len(my_array) < 2:\n",
    "        return my_array\n",
    "    else:\n",
    "        mid_point = len(my_array) // 2\n",
    "        print\n",
    "        return merge(merge_sort(my_array[:mid_point]), merge_sort(my_array[mid_point:]))\n",
    "\n",
    "merge_sort([2, 1, 10, 11, 7, 4, 1, 8, 10, 25])"
   ]
  },
  {
   "cell_type": "code",
   "execution_count": 51,
   "metadata": {},
   "outputs": [
    {
     "data": {
      "text/plain": [
       "array([0.0063184 , 0.10044468, 0.21380677, 0.22634638, 0.36535963,\n",
       "       0.4165314 , 0.50335683, 0.71444605, 0.72851167, 0.76803359,\n",
       "       0.94955033])"
      ]
     },
     "execution_count": 51,
     "metadata": {},
     "output_type": "execute_result"
    }
   ],
   "source": [
    "def quick_sort(my_arr):\n",
    "    quick_sort_helper(my_arr, 0, len(my_arr) - 1)\n",
    "    \n",
    "def quick_sort_helper(arr, start, end):\n",
    "    if start <= end:\n",
    "        middle = (start + end) // 2\n",
    "        arr[end], arr[middle] = arr[middle], arr[end]\n",
    "        pivot = arr[end]\n",
    "\n",
    "        current_ptr = start\n",
    "        for index in range(start, end):\n",
    "            if arr[index] < pivot:\n",
    "                arr[current_ptr], arr[index] = arr[index], arr[current_ptr]\n",
    "                current_ptr += 1\n",
    "        arr[current_ptr], arr[end] = arr[end], arr[current_ptr]\n",
    "        quick_sort_helper(arr, start, current_ptr - 1)\n",
    "\n",
    "        quick_sort_helper(arr, current_ptr + 1, end)\n",
    "\n",
    "import numpy as np\n",
    "x = np.random.rand(11)\n",
    "quick_sort(x)\n",
    "x"
   ]
  },
  {
   "cell_type": "markdown",
   "metadata": {},
   "source": [
    "# Sorted Merge\n",
    "\n",
    "You are given two sorted arrays, A and B, where A has a large enough buffer at the end to hold B. Write a method to merge B into A in sorted order.\n",
    "\n",
    "__Hints:#332__"
   ]
  },
  {
   "cell_type": "code",
   "execution_count": 56,
   "metadata": {},
   "outputs": [
    {
     "data": {
      "text/plain": [
       "[5, 7, 9, 10, 20, 50, 100]"
      ]
     },
     "execution_count": 56,
     "metadata": {},
     "output_type": "execute_result"
    }
   ],
   "source": [
    "def sorted_merge(a, b):\n",
    "    a_len = len(a) - len(b)\n",
    "    b_len = len(b)\n",
    "    \n",
    "    current_index = len(a) - 1\n",
    "    a_index = a_len - 1\n",
    "    b_index = b_len - 1\n",
    "    while current_index > -1:\n",
    "        if a_index > -1 and b_index > -1:\n",
    "            if a[a_index] > b[b_index]:\n",
    "                a[current_index] = a[a_index]\n",
    "                a_index -= 1\n",
    "            else:\n",
    "                a[current_index] = b[b_index]\n",
    "                b_index -= 1\n",
    "        elif b_index > -1:\n",
    "            a[current_index] = b[b_index]\n",
    "            b_index -= 1\n",
    "        \n",
    "        current_index -= 1\n",
    "\n",
    "a = [10, 20, 50, 100, 0, 0, 0]\n",
    "b = [5, 7, 9]\n",
    "sorted_merge(a, b)\n",
    "a"
   ]
  },
  {
   "cell_type": "markdown",
   "metadata": {},
   "source": [
    "# Search in Rotated Array\n",
    "\n",
    "Given a sorted array of n integers that has been rotated an unknown number of times, write code to find an element in the array. You may assume that the array was\n",
    "originally sorted in increasing order. \n",
    "\n",
    "__EXAMPLE__\n",
    "\n",
    "lnput:findSin{lS, 16, 19, 20, 25, 1, 3, 4, 5, 7, 10, 14}\n",
    "\n",
    "Output: 8 (the index of 5 in the array)\n",
    "\n",
    "__Hints:#298, #370__"
   ]
  },
  {
   "cell_type": "code",
   "execution_count": 67,
   "metadata": {},
   "outputs": [
    {
     "data": {
      "text/plain": [
       "10"
      ]
     },
     "execution_count": 67,
     "metadata": {},
     "output_type": "execute_result"
    }
   ],
   "source": [
    "def search_rotated(arr, target):\n",
    "    def helper(arr, start, end):\n",
    "        if start > end:\n",
    "            return None\n",
    "        else:\n",
    "            middle = (start + end) // 2\n",
    "            start_elem = arr[start]\n",
    "            middle_elem = arr[middle]\n",
    "            end_elem = arr[end]\n",
    "            if middle_elem == target:\n",
    "                return middle\n",
    "            elif start_elem < target <= middle_elem:\n",
    "                return helper(arr, start, middle - 1)\n",
    "            elif middle_elem < target <= end_elem:\n",
    "                return helper(arr, middle + 1, end)\n",
    "            elif target <= end_elem:\n",
    "                return helper(arr, middle + 1, end)\n",
    "            else:\n",
    "                return helper(arr, start, middle - 1)\n",
    "    \n",
    "    return helper(arr, 0, len(arr) - 1)\n",
    "\n",
    "search_rotated([13, 14, 15, 16, 19, 20, 25, 1, 3, 4, 5, 7, 10, 12, 13], 5)"
   ]
  },
  {
   "cell_type": "markdown",
   "metadata": {},
   "source": [
    "# Sorted Search, No Size\n",
    "\n",
    "You are given an array like data structure Listy which lacks a size method. It does, however, have an elementAt ( i) method that returns the element at index i in\n",
    "0( 1) time. If i is beyond the bounds of the data structure, it returns -1. (For this reason, the data structure only supports positive integers.) Given a Li sty which contains sorted, positive integers,\n",
    "find the index at which an element x occurs. If x occurs multiple times, you may return any index.\n",
    "\n",
    "__Hints: #320, #337, #348__"
   ]
  },
  {
   "cell_type": "code",
   "execution_count": null,
   "metadata": {},
   "outputs": [],
   "source": []
  }
 ],
 "metadata": {
  "kernelspec": {
   "display_name": "Python 3",
   "language": "python",
   "name": "python3"
  },
  "language_info": {
   "codemirror_mode": {
    "name": "ipython",
    "version": 3
   },
   "file_extension": ".py",
   "mimetype": "text/x-python",
   "name": "python",
   "nbconvert_exporter": "python",
   "pygments_lexer": "ipython3",
   "version": "3.6.4"
  }
 },
 "nbformat": 4,
 "nbformat_minor": 2
}
