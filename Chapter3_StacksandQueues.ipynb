{
 "cells": [
  {
   "cell_type": "code",
   "execution_count": 35,
   "metadata": {},
   "outputs": [
    {
     "name": "stdout",
     "output_type": "stream",
     "text": [
      "Node: 2\n",
      "Node: 1\n",
      "Node: 1\n",
      "Node: 2\n",
      "Node: 3\n",
      "Node: 4\n",
      "Node: 5\n",
      "Node: 6\n"
     ]
    }
   ],
   "source": [
    "class Node:\n",
    "    def __init__(self, val, next_ptr = None):\n",
    "        self.val = val\n",
    "        self.next_ptr = next_ptr\n",
    "    \n",
    "    def get_val(self):\n",
    "        return self.val\n",
    "    \n",
    "    def get_next(self):\n",
    "        return self.next_ptr\n",
    "    \n",
    "    def set_val(self, val):\n",
    "        self.val = val\n",
    "        \n",
    "    def set_next(self, next_ptr):\n",
    "        self.next_ptr = next_ptr\n",
    "        \n",
    "    def __str__(self):\n",
    "        return f'Node: {self.get_val()}'\n",
    "        \n",
    "class Stack:\n",
    "    def __init__(self, head):\n",
    "        self.stack = head\n",
    "        \n",
    "    def push(self, val):\n",
    "        new_head = Node(val, self.stack)\n",
    "        self.stack = new_head\n",
    "        \n",
    "    def peek(self):\n",
    "        return self.stack.get_val()\n",
    "    \n",
    "    def pop(self):\n",
    "        node = self.stack\n",
    "        self.stack = self.stack.get_next()\n",
    "        return node\n",
    "    \n",
    "    def isEmpty(self):\n",
    "        return self.stack == None\n",
    "    \n",
    "class Queue:\n",
    "    def __init__(self, node):\n",
    "        self.first = node\n",
    "        self.last = node\n",
    "    \n",
    "    def enqueue(self, val):\n",
    "        node = Node(val)\n",
    "        \n",
    "        if not self.first:\n",
    "            self.first = node\n",
    "            self.last = node\n",
    "        \n",
    "        self.last.set_next(node)\n",
    "        self.last = self.last.get_next()\n",
    "        \n",
    "    def dequeue(self):\n",
    "        node = self.first\n",
    "        self.first = self.first.get_next()\n",
    "        return node\n",
    "    \n",
    "a = Stack(Node(1))\n",
    "a.push(2)\n",
    "print(a.pop())\n",
    "print(a.pop())\n",
    "\n",
    "b = Queue(Node(1))\n",
    "b.enqueue(2)\n",
    "print(b.dequeue())\n",
    "print(b.dequeue())\n",
    "b.enqueue(3)\n",
    "b.enqueue(4)\n",
    "b.enqueue(5)\n",
    "b.enqueue(6)\n",
    "print(b.dequeue())\n",
    "print(b.dequeue())\n",
    "print(b.dequeue())\n",
    "print(b.dequeue())"
   ]
  },
  {
   "cell_type": "markdown",
   "metadata": {},
   "source": [
    "# Three in One\n",
    "\n",
    "Describe how you could use a single array to implement three stacks.\n",
    "\n",
    "__Hints: #2, #72, #38, #58__"
   ]
  },
  {
   "cell_type": "code",
   "execution_count": 34,
   "metadata": {},
   "outputs": [
    {
     "name": "stdout",
     "output_type": "stream",
     "text": [
      "Node: 7\n",
      "Node: 100\n",
      "Node: 3\n",
      "Node: 100\n"
     ]
    }
   ],
   "source": [
    "class three_in_one:\n",
    "    def __init__(self, length):\n",
    "        self.stacks = [0] * length\n",
    "        self.length = length\n",
    "        self.first = 0\n",
    "        self.second = length//3\n",
    "        self.third = 2*length//3\n",
    "        \n",
    "    def push(self, stack_num, val):\n",
    "        def push_single_stack(index, upper_limit, node):\n",
    "            if index < upper_limit:\n",
    "                self.stacks[index] = node\n",
    "                return index + 1\n",
    "            else:\n",
    "                raise ValueError(f'Full Stack')\n",
    "        if stack_num == 0:\n",
    "            self.first = push_single_stack(self.first, self.length//3, Node(val))\n",
    "        elif stack_num == 1:\n",
    "            self.second = push_single_stack(self.second, 2*self.length//3, Node(val))\n",
    "        else:\n",
    "            self.third = push_single_stack(self.third, self.length, Node(val))\n",
    "            \n",
    "    def pop(self, stack_num):\n",
    "        def pop_single_stack(index, lower_limit):\n",
    "            if index > lower_limit:\n",
    "                node = self.stacks[index - 1]\n",
    "                return index - 1, node\n",
    "            else:\n",
    "                raise ValueError(f'Empty Stack')\n",
    "        if stack_num == 0:\n",
    "            self.first, node = pop_single_stack(self.first, 0)\n",
    "        elif stack_num == 1:\n",
    "            self.second, node = pop_single_stack(self.second, self.length//3)\n",
    "        else:\n",
    "            self.third, node = pop_single_stack(self.third, 2*self.length//3)\n",
    "        return node\n",
    "    \n",
    "x = three_in_one(30)\n",
    "x.push(0, 1)\n",
    "x.push(0, 2)\n",
    "x.push(0, 3)\n",
    "x.push(0, 2)\n",
    "x.push(0, 5)\n",
    "x.push(0, 7)\n",
    "x.push(0, 3)\n",
    "x.push(0, 2)\n",
    "x.push(0, 5)\n",
    "x.push(0, 7)\n",
    "x.push(1, 2)\n",
    "x.push(2, 3)\n",
    "x.push(1, 2)\n",
    "x.push(1, 2)\n",
    "x.push(1, 100)\n",
    "print(x.pop(0))\n",
    "x.push(0, 100)\n",
    "print(x.pop(1))\n",
    "print(x.pop(2))\n",
    "print(x.pop(0))"
   ]
  },
  {
   "cell_type": "markdown",
   "metadata": {},
   "source": [
    "# Stack Min\n",
    "\n",
    "How would you design a stack which, in addition to push and pop, has a function min which returns the minimum element? Push, pop and min should all operate in 0(1) time.\n",
    "\n",
    "__Hints:#27, #59, #78__"
   ]
  },
  {
   "cell_type": "code",
   "execution_count": 54,
   "metadata": {},
   "outputs": [
    {
     "name": "stdout",
     "output_type": "stream",
     "text": [
      "20\n"
     ]
    }
   ],
   "source": [
    "class min_stack:\n",
    "    def __init__(self, head):\n",
    "        self.stack = Stack(head)\n",
    "        self.min = Stack(Node(head.get_val()))\n",
    "        \n",
    "    def push(self, val):\n",
    "        if self.stack.isEmpty():\n",
    "            self.stack.push(val)\n",
    "            self.min = Stack(Node(val))\n",
    "        else:\n",
    "            self.stack.push(val)\n",
    "            if val <= self.min.peek():\n",
    "                self.min.push(val)\n",
    "                \n",
    "    def pop(self):\n",
    "        if self.stack.isEmpty():\n",
    "            raise ValueError(f'Empty Stack')\n",
    "        else:\n",
    "            node = self.stack.pop()\n",
    "            if node.get_val() == self.min.peek():\n",
    "                self.min.pop()\n",
    "        \n",
    "    def get_min(self):\n",
    "        return self.min.peek()\n",
    "\n",
    "my_stack = min_stack(Node(20))\n",
    "my_stack.push(10)\n",
    "my_stack.push(10)\n",
    "my_stack.push(10)\n",
    "my_stack.push(10)\n",
    "my_stack.push(1)\n",
    "my_stack.pop()\n",
    "my_stack.pop()\n",
    "my_stack.pop()\n",
    "my_stack.pop()\n",
    "my_stack.pop()\n",
    "print(my_stack.get_min())"
   ]
  },
  {
   "cell_type": "markdown",
   "metadata": {},
   "source": [
    "# Stack of Plates\n",
    "\n",
    "Imagine a (literal) stack of plates. If the stack gets too high, it might topple. Therefore, in real life, we would likely start a new stack when the previous stack exceeds some threshold. Implement a data structure SetOfStacks that mimics this. SetO-fStacks should be composed of several stacks and should create a new stack once the previous one exceeds capacity. SetOfStacks. push() and SetOfStacks. pop() should behave identically to a single stack (that is, pop () should return the same values as it would if there were just a single stack).\n",
    "\n",
    "FOLLOW UP\n",
    "Implement a function popAt ( int index) which performs a pop operation on a specific sub-stack.\n",
    "\n",
    "__Hints:#64, #87__"
   ]
  },
  {
   "cell_type": "code",
   "execution_count": 85,
   "metadata": {},
   "outputs": [
    {
     "name": "stdout",
     "output_type": "stream",
     "text": [
      "Here\n",
      "Node: 14\n",
      "Node: 13\n",
      "Node: 12\n",
      "Node: 11\n",
      "Node: 12\n"
     ]
    }
   ],
   "source": [
    "class Stack:\n",
    "    def __init__(self, head):\n",
    "        self.stack = head\n",
    "        \n",
    "    def push(self, val):\n",
    "        new_head = Node(val, self.stack)\n",
    "        self.stack = new_head\n",
    "        \n",
    "    def peek(self):\n",
    "        return self.stack.get_val()\n",
    "    \n",
    "    def pop(self):\n",
    "        node = self.stack\n",
    "        self.stack = self.stack.get_next()\n",
    "        return node\n",
    "    \n",
    "    def isEmpty(self):\n",
    "        return self.stack == None\n",
    "\n",
    "class SetOfStacks:\n",
    "    def __init__(self, head_val, threshold):\n",
    "        self.StacksStack = Stack(Node(Stack(Node(head_val))))\n",
    "        self.num_elems = 1\n",
    "        self.threshold = threshold\n",
    "        self.current_elems = 1\n",
    "    \n",
    "    def push(self, val):\n",
    "        if self.StacksStack.isEmpty() or self.current_elems >= self.threshold:\n",
    "            self.StacksStack.push(Stack(Node(val)))\n",
    "            self.current_elems = 1\n",
    "            print('Here')\n",
    "        else:\n",
    "            self.StacksStack.peek().push(val)\n",
    "            self.current_elems += 1\n",
    "        \n",
    "        self.num_elems += 1\n",
    "    \n",
    "    def pop(self):\n",
    "        if self.StacksStack.isEmpty():\n",
    "            raise ValueError(f'Empty Stack')\n",
    "        elif self.StacksStack.peek().isEmpty():\n",
    "            self.StacksStack.pop()\n",
    "            if self.StacksStack.isEmpty():\n",
    "                raise ValueError(f'Empty Stack')\n",
    "            else:\n",
    "                self.current_elems -= 1\n",
    "                return self.StacksStack.peek().pop()\n",
    "        else:\n",
    "            self.current_elems -= 1\n",
    "            return self.StacksStack.peek().pop()\n",
    "        \n",
    "my_stack = SetOfStacks(Node(1), 3)\n",
    "my_stack.push(10)\n",
    "my_stack.push(11)\n",
    "my_stack.push(12)\n",
    "my_stack.push(13)\n",
    "my_stack.push(14)\n",
    "print(my_stack.pop())\n",
    "print(my_stack.pop())\n",
    "print(my_stack.pop())\n",
    "print(my_stack.pop())\n",
    "my_stack.push(12)\n",
    "print(my_stack.pop())"
   ]
  },
  {
   "cell_type": "markdown",
   "metadata": {},
   "source": [
    "# Queue via Stacks\n",
    "\n",
    "Implement a MyQueue class which implements a queue using two stacks.\n",
    "\n",
    "__Hints: #98, #7 74__"
   ]
  },
  {
   "cell_type": "code",
   "execution_count": 93,
   "metadata": {},
   "outputs": [
    {
     "name": "stdout",
     "output_type": "stream",
     "text": [
      "Node: 1\n",
      "Node: 2\n",
      "Node: 3\n"
     ]
    },
    {
     "ename": "ValueError",
     "evalue": "Empty queue",
     "output_type": "error",
     "traceback": [
      "\u001b[1;31m---------------------------------------------------------------------------\u001b[0m",
      "\u001b[1;31mValueError\u001b[0m                                Traceback (most recent call last)",
      "\u001b[1;32m<ipython-input-93-e1aebef929d9>\u001b[0m in \u001b[0;36m<module>\u001b[1;34m()\u001b[0m\n\u001b[0;32m     26\u001b[0m \u001b[0mprint\u001b[0m\u001b[1;33m(\u001b[0m\u001b[0mmyq\u001b[0m\u001b[1;33m.\u001b[0m\u001b[0mdequeue\u001b[0m\u001b[1;33m(\u001b[0m\u001b[1;33m)\u001b[0m\u001b[1;33m)\u001b[0m\u001b[1;33m\u001b[0m\u001b[0m\n\u001b[0;32m     27\u001b[0m \u001b[0mprint\u001b[0m\u001b[1;33m(\u001b[0m\u001b[0mmyq\u001b[0m\u001b[1;33m.\u001b[0m\u001b[0mdequeue\u001b[0m\u001b[1;33m(\u001b[0m\u001b[1;33m)\u001b[0m\u001b[1;33m)\u001b[0m\u001b[1;33m\u001b[0m\u001b[0m\n\u001b[1;32m---> 28\u001b[1;33m \u001b[0mprint\u001b[0m\u001b[1;33m(\u001b[0m\u001b[0mmyq\u001b[0m\u001b[1;33m.\u001b[0m\u001b[0mdequeue\u001b[0m\u001b[1;33m(\u001b[0m\u001b[1;33m)\u001b[0m\u001b[1;33m)\u001b[0m\u001b[1;33m\u001b[0m\u001b[0m\n\u001b[0m",
      "\u001b[1;32m<ipython-input-93-e1aebef929d9>\u001b[0m in \u001b[0;36mdequeue\u001b[1;34m(self)\u001b[0m\n\u001b[0;32m      9\u001b[0m     \u001b[1;32mdef\u001b[0m \u001b[0mdequeue\u001b[0m\u001b[1;33m(\u001b[0m\u001b[0mself\u001b[0m\u001b[1;33m)\u001b[0m\u001b[1;33m:\u001b[0m\u001b[1;33m\u001b[0m\u001b[0m\n\u001b[0;32m     10\u001b[0m         \u001b[1;32mif\u001b[0m \u001b[0mself\u001b[0m\u001b[1;33m.\u001b[0m\u001b[0misEmpty\u001b[0m\u001b[1;33m(\u001b[0m\u001b[1;33m)\u001b[0m\u001b[1;33m:\u001b[0m\u001b[1;33m\u001b[0m\u001b[0m\n\u001b[1;32m---> 11\u001b[1;33m             \u001b[1;32mraise\u001b[0m \u001b[0mValueError\u001b[0m\u001b[1;33m(\u001b[0m\u001b[1;34mf'Empty queue'\u001b[0m\u001b[1;33m)\u001b[0m\u001b[1;33m\u001b[0m\u001b[0m\n\u001b[0m\u001b[0;32m     12\u001b[0m         \u001b[1;32mwhile\u001b[0m \u001b[1;32mnot\u001b[0m \u001b[0mself\u001b[0m\u001b[1;33m.\u001b[0m\u001b[0mmain_stack\u001b[0m\u001b[1;33m.\u001b[0m\u001b[0misEmpty\u001b[0m\u001b[1;33m(\u001b[0m\u001b[1;33m)\u001b[0m\u001b[1;33m:\u001b[0m\u001b[1;33m\u001b[0m\u001b[0m\n\u001b[0;32m     13\u001b[0m             \u001b[0mself\u001b[0m\u001b[1;33m.\u001b[0m\u001b[0mtemp_stack\u001b[0m\u001b[1;33m.\u001b[0m\u001b[0mpush\u001b[0m\u001b[1;33m(\u001b[0m\u001b[0mself\u001b[0m\u001b[1;33m.\u001b[0m\u001b[0mmain_stack\u001b[0m\u001b[1;33m.\u001b[0m\u001b[0mpop\u001b[0m\u001b[1;33m(\u001b[0m\u001b[1;33m)\u001b[0m\u001b[1;33m.\u001b[0m\u001b[0mget_val\u001b[0m\u001b[1;33m(\u001b[0m\u001b[1;33m)\u001b[0m\u001b[1;33m)\u001b[0m\u001b[1;33m\u001b[0m\u001b[0m\n",
      "\u001b[1;31mValueError\u001b[0m: Empty queue"
     ]
    }
   ],
   "source": [
    "class QStack:\n",
    "    def __init__(self, first):\n",
    "        self.main_stack = Stack(first)\n",
    "        self.temp_stack = Stack(None)\n",
    "        \n",
    "    def enqueue(self, first):\n",
    "        self.main_stack.push(first)\n",
    "        \n",
    "    def dequeue(self):\n",
    "        if self.isEmpty():\n",
    "            raise ValueError(f'Empty queue')\n",
    "        while not self.main_stack.isEmpty():\n",
    "            self.temp_stack.push(self.main_stack.pop().get_val())\n",
    "        node = self.temp_stack.pop()\n",
    "        while not self.temp_stack.isEmpty():\n",
    "            self.main_stack.push(self.temp_stack.pop().get_val())\n",
    "        return node\n",
    "    \n",
    "    def isEmpty(self):\n",
    "        return self.main_stack.isEmpty()\n",
    "    \n",
    "myq = QStack(Node(1))\n",
    "myq.enqueue(2)\n",
    "myq.enqueue(3)\n",
    "print(myq.dequeue())\n",
    "print(myq.dequeue())\n",
    "print(myq.dequeue())\n",
    "print(myq.dequeue())"
   ]
  },
  {
   "cell_type": "markdown",
   "metadata": {},
   "source": [
    "# Sort Stack\n",
    "\n",
    "Write a program to sort a stack such that the smallest items are on the top. You can use an additional temporary stack, but you may not copy the elements into any other data structure (such as an array). The stack supports the following operations: push, pop, peek, and is Empty.\n",
    "\n",
    "__Hints:# 15, #32, #43__"
   ]
  },
  {
   "cell_type": "code",
   "execution_count": 121,
   "metadata": {},
   "outputs": [
    {
     "name": "stdout",
     "output_type": "stream",
     "text": [
      "Node: 10\n",
      "Node: 10\n",
      "Node: 10\n",
      "Node: 1\n",
      "Node: 10\n",
      "Node: 1\n",
      "Node: 10\n",
      "True\n"
     ]
    }
   ],
   "source": [
    "a = Stack(Node(10))\n",
    "a.push(1)\n",
    "a.push(10)\n",
    "a.push(1)\n",
    "a.push(10)\n",
    "a.push(10)\n",
    "a.push(10)\n",
    "print(a.pop())\n",
    "print(a.pop())\n",
    "print(a.pop())\n",
    "print(a.pop())\n",
    "print(a.pop())\n",
    "print(a.pop())\n",
    "print(a.pop())\n",
    "print(a.isEmpty())"
   ]
  },
  {
   "cell_type": "code",
   "execution_count": 139,
   "metadata": {},
   "outputs": [
    {
     "name": "stdout",
     "output_type": "stream",
     "text": [
      "Node: 1\n",
      "Node: 1\n",
      "Node: 10\n",
      "Node: 10\n",
      "Node: 10\n",
      "Node: 10\n",
      "Node: 10\n"
     ]
    }
   ],
   "source": [
    "def sort_stack(stack):\n",
    "    if stack.isEmpty():\n",
    "        return\n",
    "    else:\n",
    "        first_elem = stack.pop().get_val()\n",
    "        temp_stack = Stack(Node(first_elem))\n",
    "        while not stack.isEmpty():\n",
    "            current_node = stack.pop()\n",
    "            node_val = current_node.get_val()\n",
    "            if node_val < temp_stack.peek():\n",
    "                while not temp_stack.isEmpty() and node_val < temp_stack.peek():\n",
    "                    temp_node = temp_stack.pop()\n",
    "                    temp_val = temp_node.get_val()\n",
    "                    stack.push(temp_val)\n",
    "                temp_stack.push(node_val)\n",
    "            else:\n",
    "                temp_stack.push(node_val)\n",
    "        while not temp_stack.isEmpty():\n",
    "            temp_node = temp_stack.pop()\n",
    "            temp_val = temp_node.get_val()\n",
    "            stack.push(temp_val)\n",
    "        return\n",
    "    \n",
    "a = Stack(Node(10))\n",
    "a.push(1)\n",
    "a.push(10)\n",
    "a.push(1)\n",
    "a.push(10)\n",
    "a.push(10)\n",
    "a.push(10)\n",
    "sort_stack(a)\n",
    "while not a.isEmpty():\n",
    "    print(a.pop())"
   ]
  },
  {
   "cell_type": "markdown",
   "metadata": {},
   "source": [
    "# Animal Shelter\n",
    "\n",
    "An animal shelter, which holds only dogs and cats, operates on a strictly \"first in, first out\" basis. People must adopt either the \"oldest\" (based on arrival time) of all animals at the shelter, or they can select whether they would prefer a dog or a cat (and will receive the oldest animal of that type). They cannot select which specific animal they would like. Create the data structures to maintain this system and implement operations such as enqueue, dequeueAny, dequeueDog, and dequeueCat. You may use the built-in Linked list data structure."
   ]
  },
  {
   "cell_type": "code",
   "execution_count": null,
   "metadata": {},
   "outputs": [],
   "source": [
    "class Shelter:\n",
    "    def __init__(self, head)"
   ]
  }
 ],
 "metadata": {
  "kernelspec": {
   "display_name": "Python 3",
   "language": "python",
   "name": "python3"
  },
  "language_info": {
   "codemirror_mode": {
    "name": "ipython",
    "version": 3
   },
   "file_extension": ".py",
   "mimetype": "text/x-python",
   "name": "python",
   "nbconvert_exporter": "python",
   "pygments_lexer": "ipython3",
   "version": "3.6.4"
  }
 },
 "nbformat": 4,
 "nbformat_minor": 2
}
